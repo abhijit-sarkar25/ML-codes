{
 "cells": [
  {
   "cell_type": "markdown",
   "id": "32f62565",
   "metadata": {},
   "source": [
    "<b> The flow of the case study is as below:\n",
    "\n",
    "* Reading the data in python\n",
    "* Defining the problem statement\n",
    "* Identifying the Target variable\n",
    "* Looking at the distribution of Target variable\n",
    "* Basic Data exploration\n",
    "* Rejecting useless columns\n",
    "* Visual Exploratory Data Analysis for data distribution (Histogram and Barcharts)\n",
    "* Feature Selection based on data distribution\n",
    "* Outlier treatment\n",
    "* Missing Values treatment\n",
    "* Visual correlation analysis\n",
    "* Statistical correlation analysis (Feature Selection)\n",
    "* Converting data to numeric for ML\n",
    "* Sampling and K-fold cross validation\n",
    "* Trying multiple classification algorithms\n",
    "* Selecting the best Model\n",
    "* Deploying the best model in production"
   ]
  },
  {
   "cell_type": "markdown",
   "id": "b08fc093",
   "metadata": {},
   "source": [
    "# Reading the data into python\n",
    "\n",
    "<b> Data Description\n",
    "\n",
    "* ID: Customer ID\n",
    "* Age : Customer Age\n",
    "* Experience : Customer Experience\n",
    "* Income : Income of the Customer\n",
    "* ZipCode: Customer's residence zipcode\n",
    "* Family : No of Family members of the customer\n",
    "* CCAvg: Credit Card Average Score\n",
    "* Education: Education of the customer\n",
    "* Mortgage: Mortgage taken or not taken by the customer\n",
    "* Personal Loan: 0 = No personal loan given , 1 = personal loan given\n",
    "* Securities Account : Having or not having a Securities Account\n",
    "* CD Account : Having or not having a CD Account\n",
    "* Online : Having or not having online banking\n",
    "* Credit Card : Having or not having a credit card"
   ]
  },
  {
   "cell_type": "code",
   "execution_count": 1,
   "id": "b85d3884",
   "metadata": {},
   "outputs": [],
   "source": [
    "#Supressing the warning messages\n",
    "import warnings\n",
    "warnings.filterwarnings('ignore')"
   ]
  },
  {
   "cell_type": "code",
   "execution_count": 2,
   "id": "b84734f8",
   "metadata": {},
   "outputs": [
    {
     "name": "stdout",
     "output_type": "stream",
     "text": [
      "Shape before deleting duplicate values: (5000, 14)\n",
      "Shape after deleting duplicate values: (5000, 14)\n"
     ]
    },
    {
     "data": {
      "text/html": [
       "<div>\n",
       "<style scoped>\n",
       "    .dataframe tbody tr th:only-of-type {\n",
       "        vertical-align: middle;\n",
       "    }\n",
       "\n",
       "    .dataframe tbody tr th {\n",
       "        vertical-align: top;\n",
       "    }\n",
       "\n",
       "    .dataframe thead th {\n",
       "        text-align: right;\n",
       "    }\n",
       "</style>\n",
       "<table border=\"1\" class=\"dataframe\">\n",
       "  <thead>\n",
       "    <tr style=\"text-align: right;\">\n",
       "      <th></th>\n",
       "      <th>ID</th>\n",
       "      <th>Age</th>\n",
       "      <th>Experience</th>\n",
       "      <th>Income</th>\n",
       "      <th>ZIP.Code</th>\n",
       "      <th>Family</th>\n",
       "      <th>CCAvg</th>\n",
       "      <th>Education</th>\n",
       "      <th>Mortgage</th>\n",
       "      <th>Personal.Loan</th>\n",
       "      <th>Securities.Account</th>\n",
       "      <th>CD.Account</th>\n",
       "      <th>Online</th>\n",
       "      <th>CreditCard</th>\n",
       "    </tr>\n",
       "  </thead>\n",
       "  <tbody>\n",
       "    <tr>\n",
       "      <th>0</th>\n",
       "      <td>1</td>\n",
       "      <td>25</td>\n",
       "      <td>1</td>\n",
       "      <td>49</td>\n",
       "      <td>91107</td>\n",
       "      <td>4</td>\n",
       "      <td>1.6</td>\n",
       "      <td>1</td>\n",
       "      <td>0</td>\n",
       "      <td>0</td>\n",
       "      <td>1</td>\n",
       "      <td>0</td>\n",
       "      <td>0</td>\n",
       "      <td>0</td>\n",
       "    </tr>\n",
       "    <tr>\n",
       "      <th>1</th>\n",
       "      <td>2</td>\n",
       "      <td>45</td>\n",
       "      <td>19</td>\n",
       "      <td>34</td>\n",
       "      <td>90089</td>\n",
       "      <td>3</td>\n",
       "      <td>1.5</td>\n",
       "      <td>1</td>\n",
       "      <td>0</td>\n",
       "      <td>0</td>\n",
       "      <td>1</td>\n",
       "      <td>0</td>\n",
       "      <td>0</td>\n",
       "      <td>0</td>\n",
       "    </tr>\n",
       "    <tr>\n",
       "      <th>2</th>\n",
       "      <td>3</td>\n",
       "      <td>39</td>\n",
       "      <td>15</td>\n",
       "      <td>11</td>\n",
       "      <td>94720</td>\n",
       "      <td>1</td>\n",
       "      <td>1.0</td>\n",
       "      <td>1</td>\n",
       "      <td>0</td>\n",
       "      <td>0</td>\n",
       "      <td>0</td>\n",
       "      <td>0</td>\n",
       "      <td>0</td>\n",
       "      <td>0</td>\n",
       "    </tr>\n",
       "    <tr>\n",
       "      <th>3</th>\n",
       "      <td>4</td>\n",
       "      <td>35</td>\n",
       "      <td>9</td>\n",
       "      <td>100</td>\n",
       "      <td>94112</td>\n",
       "      <td>1</td>\n",
       "      <td>2.7</td>\n",
       "      <td>2</td>\n",
       "      <td>0</td>\n",
       "      <td>0</td>\n",
       "      <td>0</td>\n",
       "      <td>0</td>\n",
       "      <td>0</td>\n",
       "      <td>0</td>\n",
       "    </tr>\n",
       "    <tr>\n",
       "      <th>4</th>\n",
       "      <td>5</td>\n",
       "      <td>35</td>\n",
       "      <td>8</td>\n",
       "      <td>45</td>\n",
       "      <td>91330</td>\n",
       "      <td>4</td>\n",
       "      <td>1.0</td>\n",
       "      <td>2</td>\n",
       "      <td>0</td>\n",
       "      <td>0</td>\n",
       "      <td>0</td>\n",
       "      <td>0</td>\n",
       "      <td>0</td>\n",
       "      <td>1</td>\n",
       "    </tr>\n",
       "    <tr>\n",
       "      <th>5</th>\n",
       "      <td>6</td>\n",
       "      <td>37</td>\n",
       "      <td>13</td>\n",
       "      <td>29</td>\n",
       "      <td>92121</td>\n",
       "      <td>4</td>\n",
       "      <td>0.4</td>\n",
       "      <td>2</td>\n",
       "      <td>155</td>\n",
       "      <td>0</td>\n",
       "      <td>0</td>\n",
       "      <td>0</td>\n",
       "      <td>1</td>\n",
       "      <td>0</td>\n",
       "    </tr>\n",
       "    <tr>\n",
       "      <th>6</th>\n",
       "      <td>7</td>\n",
       "      <td>53</td>\n",
       "      <td>27</td>\n",
       "      <td>72</td>\n",
       "      <td>91711</td>\n",
       "      <td>2</td>\n",
       "      <td>1.5</td>\n",
       "      <td>2</td>\n",
       "      <td>0</td>\n",
       "      <td>0</td>\n",
       "      <td>0</td>\n",
       "      <td>0</td>\n",
       "      <td>1</td>\n",
       "      <td>0</td>\n",
       "    </tr>\n",
       "    <tr>\n",
       "      <th>7</th>\n",
       "      <td>8</td>\n",
       "      <td>50</td>\n",
       "      <td>24</td>\n",
       "      <td>22</td>\n",
       "      <td>93943</td>\n",
       "      <td>1</td>\n",
       "      <td>0.3</td>\n",
       "      <td>3</td>\n",
       "      <td>0</td>\n",
       "      <td>0</td>\n",
       "      <td>0</td>\n",
       "      <td>0</td>\n",
       "      <td>0</td>\n",
       "      <td>1</td>\n",
       "    </tr>\n",
       "    <tr>\n",
       "      <th>8</th>\n",
       "      <td>9</td>\n",
       "      <td>35</td>\n",
       "      <td>10</td>\n",
       "      <td>81</td>\n",
       "      <td>90089</td>\n",
       "      <td>3</td>\n",
       "      <td>0.6</td>\n",
       "      <td>2</td>\n",
       "      <td>104</td>\n",
       "      <td>0</td>\n",
       "      <td>0</td>\n",
       "      <td>0</td>\n",
       "      <td>1</td>\n",
       "      <td>0</td>\n",
       "    </tr>\n",
       "    <tr>\n",
       "      <th>9</th>\n",
       "      <td>10</td>\n",
       "      <td>34</td>\n",
       "      <td>9</td>\n",
       "      <td>180</td>\n",
       "      <td>93023</td>\n",
       "      <td>1</td>\n",
       "      <td>8.9</td>\n",
       "      <td>3</td>\n",
       "      <td>0</td>\n",
       "      <td>1</td>\n",
       "      <td>0</td>\n",
       "      <td>0</td>\n",
       "      <td>0</td>\n",
       "      <td>0</td>\n",
       "    </tr>\n",
       "  </tbody>\n",
       "</table>\n",
       "</div>"
      ],
      "text/plain": [
       "   ID  Age  Experience  Income  ZIP.Code  Family  CCAvg  Education  Mortgage  \\\n",
       "0   1   25           1      49     91107       4    1.6          1         0   \n",
       "1   2   45          19      34     90089       3    1.5          1         0   \n",
       "2   3   39          15      11     94720       1    1.0          1         0   \n",
       "3   4   35           9     100     94112       1    2.7          2         0   \n",
       "4   5   35           8      45     91330       4    1.0          2         0   \n",
       "5   6   37          13      29     92121       4    0.4          2       155   \n",
       "6   7   53          27      72     91711       2    1.5          2         0   \n",
       "7   8   50          24      22     93943       1    0.3          3         0   \n",
       "8   9   35          10      81     90089       3    0.6          2       104   \n",
       "9  10   34           9     180     93023       1    8.9          3         0   \n",
       "\n",
       "   Personal.Loan  Securities.Account  CD.Account  Online  CreditCard  \n",
       "0              0                   1           0       0           0  \n",
       "1              0                   1           0       0           0  \n",
       "2              0                   0           0       0           0  \n",
       "3              0                   0           0       0           0  \n",
       "4              0                   0           0       0           1  \n",
       "5              0                   0           0       1           0  \n",
       "6              0                   0           0       1           0  \n",
       "7              0                   0           0       0           1  \n",
       "8              0                   0           0       1           0  \n",
       "9              1                   0           0       0           0  "
      ]
     },
     "execution_count": 2,
     "metadata": {},
     "output_type": "execute_result"
    }
   ],
   "source": [
    "#Reading the dataset\n",
    "import pandas as pd\n",
    "import numpy as np\n",
    "BankLoanData=pd.read_csv('D:/IVY Institute/IVY_Python/Python Datasets/Kaggle project/bankloan.csv', encoding='latin')\n",
    "print('Shape before deleting duplicate values:', BankLoanData.shape)\n",
    "\n",
    "#Removing duplicate rows if any\n",
    "BankLoanData=BankLoanData.drop_duplicates()\n",
    "print('Shape after deleting duplicate values:', BankLoanData.shape)\n",
    "\n",
    "#Printing sample data\n",
    "#Start observing the Quantitative/Categorical/Qualitative variables\n",
    "BankLoanData.head(10)"
   ]
  },
  {
   "cell_type": "markdown",
   "id": "657236de",
   "metadata": {},
   "source": [
    "# Defining the problem statement\n",
    "\n",
    "<b> Create a predictive model which can tell whether the bank should consider the application for loan approval or not?\n",
    "     \n",
    "* Target/Dependent Variable: Personal Loan\n",
    "* Predictors: Age, Experience, Income, etc.\n",
    "    \n",
    "    \n",
    "* Personal loan=0 Loan not apporoved\n",
    "* Personal loan=1 Loan apporoved   \n"
   ]
  },
  {
   "cell_type": "markdown",
   "id": "20c17942",
   "metadata": {},
   "source": [
    "# Looking at the distribution of Target variable"
   ]
  },
  {
   "cell_type": "code",
   "execution_count": 3,
   "id": "4398136e",
   "metadata": {},
   "outputs": [
    {
     "data": {
      "text/plain": [
       "<AxesSubplot:xlabel='Personal.Loan'>"
      ]
     },
     "execution_count": 3,
     "metadata": {},
     "output_type": "execute_result"
    },
    {
     "data": {
      "image/png": "[encoded data removed]",
      "text/plain": [
       "<Figure size 288x216 with 1 Axes>"
      ]
     },
     "metadata": {
      "needs_background": "light"
     },
     "output_type": "display_data"
    }
   ],
   "source": [
    "%matplotlib inline\n",
    "#Creating Bar chart as the Target variable is Categoriacal\n",
    "GroupedData=BankLoanData.groupby('Personal.Loan').size()\n",
    "GroupedData.plot(kind='bar', figsize=(4,3))"
   ]
  },
  {
   "cell_type": "markdown",
   "id": "c8ea6bd3",
   "metadata": {},
   "source": [
    "The data distribution of Target variable is not satisfactory, we need to treat it. There are insufficient number of rows to learn from. We will be using SMOTE techinque."
   ]
  },
  {
   "cell_type": "markdown",
   "id": "b6f3c8ec",
   "metadata": {},
   "source": [
    "# Target variable treatment - (SMOTE)"
   ]
  },
  {
   "cell_type": "code",
   "execution_count": 4,
   "id": "ddc088fb",
   "metadata": {},
   "outputs": [
    {
     "data": {
      "text/plain": [
       "0    4520\n",
       "1     480\n",
       "Name: Personal.Loan, dtype: int64"
      ]
     },
     "execution_count": 4,
     "metadata": {},
     "output_type": "execute_result"
    }
   ],
   "source": [
    "BankLoanData[\"Personal.Loan\"].value_counts()"
   ]
  },
  {
   "cell_type": "code",
   "execution_count": 5,
   "id": "4621eeb4",
   "metadata": {},
   "outputs": [
    {
     "name": "stdout",
     "output_type": "stream",
     "text": [
      "Requirement already satisfied: imbalanced-learn in c:\\users\\tamal\\anaconda3\\lib\\site-packages (0.12.3)\n",
      "Requirement already satisfied: scikit-learn>=1.0.2 in c:\\users\\tamal\\anaconda3\\lib\\site-packages (from imbalanced-learn) (1.5.0)\n",
      "Requirement already satisfied: scipy>=1.5.0 in c:\\users\\tamal\\anaconda3\\lib\\site-packages (from imbalanced-learn) (1.7.1)\n",
      "Requirement already satisfied: numpy>=1.17.3 in c:\\users\\tamal\\anaconda3\\lib\\site-packages (from imbalanced-learn) (1.20.3)\n",
      "Requirement already satisfied: joblib>=1.1.1 in c:\\users\\tamal\\anaconda3\\lib\\site-packages (from imbalanced-learn) (1.4.2)\n",
      "Requirement already satisfied: threadpoolctl>=2.0.0 in c:\\users\\tamal\\anaconda3\\lib\\site-packages (from imbalanced-learn) (3.5.0)\n"
     ]
    }
   ],
   "source": [
    "!pip install imbalanced-learn"
   ]
  },
  {
   "cell_type": "code",
   "execution_count": 6,
   "id": "9affc44b",
   "metadata": {},
   "outputs": [],
   "source": [
    "from imblearn.over_sampling import SMOTE\n",
    "\n",
    "#Display the count of each class in the target column\n",
    "#BankLoanData[\"Personal.Loan\"]=BankLoanData[\"Personal.Loan\"].map({0: 'N', 1: 'Y'})\n",
    "#print(BankLoanData[\"Personal.Loan\"].value_counts())\n"
   ]
  },
  {
   "cell_type": "code",
   "execution_count": 7,
   "id": "40a2f802",
   "metadata": {},
   "outputs": [],
   "source": [
    "#Split the dataset into features (X) and Personal.Loan (Z)\n",
    "X=BankLoanData.drop(\"Personal.Loan\", axis=1)\n",
    "Z=BankLoanData[\"Personal.Loan\"]"
   ]
  },
  {
   "cell_type": "code",
   "execution_count": 8,
   "id": "96405f0d",
   "metadata": {},
   "outputs": [],
   "source": [
    "#Split the data into training and testing sets\n",
    "# from sklearn.model_selection import train_test_split\n",
    "# X_train, X_test, Z_train, Z_test = train_test_split(X, Z, test_size=0.2, random_state=11)"
   ]
  },
  {
   "cell_type": "code",
   "execution_count": 9,
   "id": "fe6b5d61",
   "metadata": {},
   "outputs": [
    {
     "name": "stdout",
     "output_type": "stream",
     "text": [
      "SMOTE over-sampling:\n",
      "0    4520\n",
      "1    4520\n",
      "Name: Personal.Loan, dtype: int64\n"
     ]
    },
    {
     "data": {
      "text/plain": [
       "<AxesSubplot:xlabel='Personal.Loan'>"
      ]
     },
     "execution_count": 9,
     "metadata": {},
     "output_type": "execute_result"
    },
    {
     "data": {
      "image/png": "[encoded data removed]",
      "text/plain": [
       "<Figure size 288x216 with 1 Axes>"
      ]
     },
     "metadata": {
      "needs_background": "light"
     },
     "output_type": "display_data"
    }
   ],
   "source": [
    "sm= SMOTE(random_state=42)\n",
    "X_res, Z_res = sm.fit_resample(X,Z)\n",
    "\n",
    "BankLoanData_smote_over = pd.concat([pd.DataFrame(X_res), pd.DataFrame(Z_res, columns=['Personal.Loan'])], axis=1)\n",
    "\n",
    "print('SMOTE over-sampling:')\n",
    "print(BankLoanData_smote_over[\"Personal.Loan\"].value_counts())\n",
    "\n",
    "GroupedData=BankLoanData_smote_over.groupby('Personal.Loan').size()\n",
    "GroupedData.plot(kind='bar', figsize=(4,3))"
   ]
  },
  {
   "cell_type": "code",
   "execution_count": 10,
   "id": "49570db0",
   "metadata": {},
   "outputs": [
    {
     "name": "stdout",
     "output_type": "stream",
     "text": [
      "Number of records added 4040\n"
     ]
    }
   ],
   "source": [
    "print(\"Number of records added\", BankLoanData_smote_over.shape[0]-BankLoanData.shape[0])\n"
   ]
  },
  {
   "cell_type": "code",
   "execution_count": 11,
   "id": "1b63afc6",
   "metadata": {},
   "outputs": [
    {
     "data": {
      "text/html": [
       "<div>\n",
       "<style scoped>\n",
       "    .dataframe tbody tr th:only-of-type {\n",
       "        vertical-align: middle;\n",
       "    }\n",
       "\n",
       "    .dataframe tbody tr th {\n",
       "        vertical-align: top;\n",
       "    }\n",
       "\n",
       "    .dataframe thead th {\n",
       "        text-align: right;\n",
       "    }\n",
       "</style>\n",
       "<table border=\"1\" class=\"dataframe\">\n",
       "  <thead>\n",
       "    <tr style=\"text-align: right;\">\n",
       "      <th></th>\n",
       "      <th>ID</th>\n",
       "      <th>Age</th>\n",
       "      <th>Experience</th>\n",
       "      <th>Income</th>\n",
       "      <th>ZIP.Code</th>\n",
       "      <th>Family</th>\n",
       "      <th>CCAvg</th>\n",
       "      <th>Education</th>\n",
       "      <th>Mortgage</th>\n",
       "      <th>Securities.Account</th>\n",
       "      <th>CD.Account</th>\n",
       "      <th>Online</th>\n",
       "      <th>CreditCard</th>\n",
       "      <th>Personal.Loan</th>\n",
       "    </tr>\n",
       "  </thead>\n",
       "  <tbody>\n",
       "    <tr>\n",
       "      <th>0</th>\n",
       "      <td>1</td>\n",
       "      <td>25</td>\n",
       "      <td>1</td>\n",
       "      <td>49</td>\n",
       "      <td>91107</td>\n",
       "      <td>4</td>\n",
       "      <td>1.6</td>\n",
       "      <td>1</td>\n",
       "      <td>0</td>\n",
       "      <td>1</td>\n",
       "      <td>0</td>\n",
       "      <td>0</td>\n",
       "      <td>0</td>\n",
       "      <td>0</td>\n",
       "    </tr>\n",
       "    <tr>\n",
       "      <th>1</th>\n",
       "      <td>2</td>\n",
       "      <td>45</td>\n",
       "      <td>19</td>\n",
       "      <td>34</td>\n",
       "      <td>90089</td>\n",
       "      <td>3</td>\n",
       "      <td>1.5</td>\n",
       "      <td>1</td>\n",
       "      <td>0</td>\n",
       "      <td>1</td>\n",
       "      <td>0</td>\n",
       "      <td>0</td>\n",
       "      <td>0</td>\n",
       "      <td>0</td>\n",
       "    </tr>\n",
       "    <tr>\n",
       "      <th>2</th>\n",
       "      <td>3</td>\n",
       "      <td>39</td>\n",
       "      <td>15</td>\n",
       "      <td>11</td>\n",
       "      <td>94720</td>\n",
       "      <td>1</td>\n",
       "      <td>1.0</td>\n",
       "      <td>1</td>\n",
       "      <td>0</td>\n",
       "      <td>0</td>\n",
       "      <td>0</td>\n",
       "      <td>0</td>\n",
       "      <td>0</td>\n",
       "      <td>0</td>\n",
       "    </tr>\n",
       "    <tr>\n",
       "      <th>3</th>\n",
       "      <td>4</td>\n",
       "      <td>35</td>\n",
       "      <td>9</td>\n",
       "      <td>100</td>\n",
       "      <td>94112</td>\n",
       "      <td>1</td>\n",
       "      <td>2.7</td>\n",
       "      <td>2</td>\n",
       "      <td>0</td>\n",
       "      <td>0</td>\n",
       "      <td>0</td>\n",
       "      <td>0</td>\n",
       "      <td>0</td>\n",
       "      <td>0</td>\n",
       "    </tr>\n",
       "    <tr>\n",
       "      <th>4</th>\n",
       "      <td>5</td>\n",
       "      <td>35</td>\n",
       "      <td>8</td>\n",
       "      <td>45</td>\n",
       "      <td>91330</td>\n",
       "      <td>4</td>\n",
       "      <td>1.0</td>\n",
       "      <td>2</td>\n",
       "      <td>0</td>\n",
       "      <td>0</td>\n",
       "      <td>0</td>\n",
       "      <td>0</td>\n",
       "      <td>1</td>\n",
       "      <td>0</td>\n",
       "    </tr>\n",
       "    <tr>\n",
       "      <th>5</th>\n",
       "      <td>6</td>\n",
       "      <td>37</td>\n",
       "      <td>13</td>\n",
       "      <td>29</td>\n",
       "      <td>92121</td>\n",
       "      <td>4</td>\n",
       "      <td>0.4</td>\n",
       "      <td>2</td>\n",
       "      <td>155</td>\n",
       "      <td>0</td>\n",
       "      <td>0</td>\n",
       "      <td>1</td>\n",
       "      <td>0</td>\n",
       "      <td>0</td>\n",
       "    </tr>\n",
       "    <tr>\n",
       "      <th>6</th>\n",
       "      <td>7</td>\n",
       "      <td>53</td>\n",
       "      <td>27</td>\n",
       "      <td>72</td>\n",
       "      <td>91711</td>\n",
       "      <td>2</td>\n",
       "      <td>1.5</td>\n",
       "      <td>2</td>\n",
       "      <td>0</td>\n",
       "      <td>0</td>\n",
       "      <td>0</td>\n",
       "      <td>1</td>\n",
       "      <td>0</td>\n",
       "      <td>0</td>\n",
       "    </tr>\n",
       "    <tr>\n",
       "      <th>7</th>\n",
       "      <td>8</td>\n",
       "      <td>50</td>\n",
       "      <td>24</td>\n",
       "      <td>22</td>\n",
       "      <td>93943</td>\n",
       "      <td>1</td>\n",
       "      <td>0.3</td>\n",
       "      <td>3</td>\n",
       "      <td>0</td>\n",
       "      <td>0</td>\n",
       "      <td>0</td>\n",
       "      <td>0</td>\n",
       "      <td>1</td>\n",
       "      <td>0</td>\n",
       "    </tr>\n",
       "    <tr>\n",
       "      <th>8</th>\n",
       "      <td>9</td>\n",
       "      <td>35</td>\n",
       "      <td>10</td>\n",
       "      <td>81</td>\n",
       "      <td>90089</td>\n",
       "      <td>3</td>\n",
       "      <td>0.6</td>\n",
       "      <td>2</td>\n",
       "      <td>104</td>\n",
       "      <td>0</td>\n",
       "      <td>0</td>\n",
       "      <td>1</td>\n",
       "      <td>0</td>\n",
       "      <td>0</td>\n",
       "    </tr>\n",
       "    <tr>\n",
       "      <th>9</th>\n",
       "      <td>10</td>\n",
       "      <td>34</td>\n",
       "      <td>9</td>\n",
       "      <td>180</td>\n",
       "      <td>93023</td>\n",
       "      <td>1</td>\n",
       "      <td>8.9</td>\n",
       "      <td>3</td>\n",
       "      <td>0</td>\n",
       "      <td>0</td>\n",
       "      <td>0</td>\n",
       "      <td>0</td>\n",
       "      <td>0</td>\n",
       "      <td>1</td>\n",
       "    </tr>\n",
       "  </tbody>\n",
       "</table>\n",
       "</div>"
      ],
      "text/plain": [
       "   ID  Age  Experience  Income  ZIP.Code  Family  CCAvg  Education  Mortgage  \\\n",
       "0   1   25           1      49     91107       4    1.6          1         0   \n",
       "1   2   45          19      34     90089       3    1.5          1         0   \n",
       "2   3   39          15      11     94720       1    1.0          1         0   \n",
       "3   4   35           9     100     94112       1    2.7          2         0   \n",
       "4   5   35           8      45     91330       4    1.0          2         0   \n",
       "5   6   37          13      29     92121       4    0.4          2       155   \n",
       "6   7   53          27      72     91711       2    1.5          2         0   \n",
       "7   8   50          24      22     93943       1    0.3          3         0   \n",
       "8   9   35          10      81     90089       3    0.6          2       104   \n",
       "9  10   34           9     180     93023       1    8.9          3         0   \n",
       "\n",
       "   Securities.Account  CD.Account  Online  CreditCard  Personal.Loan  \n",
       "0                   1           0       0           0              0  \n",
       "1                   1           0       0           0              0  \n",
       "2                   0           0       0           0              0  \n",
       "3                   0           0       0           0              0  \n",
       "4                   0           0       0           1              0  \n",
       "5                   0           0       1           0              0  \n",
       "6                   0           0       1           0              0  \n",
       "7                   0           0       0           1              0  \n",
       "8                   0           0       1           0              0  \n",
       "9                   0           0       0           0              1  "
      ]
     },
     "execution_count": 11,
     "metadata": {},
     "output_type": "execute_result"
    }
   ],
   "source": [
    "BankLoanData_smote_over.head(10)"
   ]
  },
  {
   "cell_type": "markdown",
   "id": "e477b8b4",
   "metadata": {},
   "source": [
    "# Basic Data Exploration"
   ]
  },
  {
   "cell_type": "code",
   "execution_count": 12,
   "id": "137954d0",
   "metadata": {},
   "outputs": [
    {
     "name": "stdout",
     "output_type": "stream",
     "text": [
      "<class 'pandas.core.frame.DataFrame'>\n",
      "RangeIndex: 9040 entries, 0 to 9039\n",
      "Data columns (total 14 columns):\n",
      " #   Column              Non-Null Count  Dtype  \n",
      "---  ------              --------------  -----  \n",
      " 0   ID                  9040 non-null   int64  \n",
      " 1   Age                 9040 non-null   int64  \n",
      " 2   Experience          9040 non-null   int64  \n",
      " 3   Income              9040 non-null   int64  \n",
      " 4   ZIP.Code            9040 non-null   int64  \n",
      " 5   Family              9040 non-null   int64  \n",
      " 6   CCAvg               9040 non-null   float64\n",
      " 7   Education           9040 non-null   int64  \n",
      " 8   Mortgage            9040 non-null   int64  \n",
      " 9   Securities.Account  9040 non-null   int64  \n",
      " 10  CD.Account          9040 non-null   int64  \n",
      " 11  Online              9040 non-null   int64  \n",
      " 12  CreditCard          9040 non-null   int64  \n",
      " 13  Personal.Loan       9040 non-null   int64  \n",
      "dtypes: float64(1), int64(13)\n",
      "memory usage: 988.9 KB\n"
     ]
    }
   ],
   "source": [
    "#Observing the summarized information of data\n",
    "#Data Types, missing values based on number of non-null values vs total rows, etc.\n",
    "BankLoanData_smote_over.info()"
   ]
  },
  {
   "cell_type": "code",
   "execution_count": 13,
   "id": "b568cc50",
   "metadata": {},
   "outputs": [
    {
     "data": {
      "text/html": [
       "<div>\n",
       "<style scoped>\n",
       "    .dataframe tbody tr th:only-of-type {\n",
       "        vertical-align: middle;\n",
       "    }\n",
       "\n",
       "    .dataframe tbody tr th {\n",
       "        vertical-align: top;\n",
       "    }\n",
       "\n",
       "    .dataframe thead th {\n",
       "        text-align: right;\n",
       "    }\n",
       "</style>\n",
       "<table border=\"1\" class=\"dataframe\">\n",
       "  <thead>\n",
       "    <tr style=\"text-align: right;\">\n",
       "      <th></th>\n",
       "      <th>ID</th>\n",
       "      <th>Age</th>\n",
       "      <th>Experience</th>\n",
       "      <th>Income</th>\n",
       "      <th>ZIP.Code</th>\n",
       "      <th>Family</th>\n",
       "      <th>CCAvg</th>\n",
       "      <th>Education</th>\n",
       "      <th>Mortgage</th>\n",
       "      <th>Securities.Account</th>\n",
       "      <th>CD.Account</th>\n",
       "      <th>Online</th>\n",
       "      <th>CreditCard</th>\n",
       "      <th>Personal.Loan</th>\n",
       "    </tr>\n",
       "  </thead>\n",
       "  <tbody>\n",
       "    <tr>\n",
       "      <th>count</th>\n",
       "      <td>9040.000000</td>\n",
       "      <td>9040.000000</td>\n",
       "      <td>9040.000000</td>\n",
       "      <td>9040.000000</td>\n",
       "      <td>9040.000000</td>\n",
       "      <td>9040.000000</td>\n",
       "      <td>9040.000000</td>\n",
       "      <td>9040.000000</td>\n",
       "      <td>9040.000000</td>\n",
       "      <td>9040.000000</td>\n",
       "      <td>9040.000000</td>\n",
       "      <td>9040.000000</td>\n",
       "      <td>9040.00000</td>\n",
       "      <td>9040.000000</td>\n",
       "    </tr>\n",
       "    <tr>\n",
       "      <th>mean</th>\n",
       "      <td>2459.289712</td>\n",
       "      <td>44.994027</td>\n",
       "      <td>19.771681</td>\n",
       "      <td>104.909624</td>\n",
       "      <td>93157.851438</td>\n",
       "      <td>2.327434</td>\n",
       "      <td>2.809416</td>\n",
       "      <td>1.891261</td>\n",
       "      <td>71.502544</td>\n",
       "      <td>0.063606</td>\n",
       "      <td>0.069801</td>\n",
       "      <td>0.491925</td>\n",
       "      <td>0.20531</td>\n",
       "      <td>0.500000</td>\n",
       "    </tr>\n",
       "    <tr>\n",
       "      <th>std</th>\n",
       "      <td>1417.874461</td>\n",
       "      <td>10.582397</td>\n",
       "      <td>10.576934</td>\n",
       "      <td>51.588189</td>\n",
       "      <td>1969.408992</td>\n",
       "      <td>1.052068</td>\n",
       "      <td>1.978239</td>\n",
       "      <td>0.765886</td>\n",
       "      <td>118.030218</td>\n",
       "      <td>0.244064</td>\n",
       "      <td>0.254825</td>\n",
       "      <td>0.499962</td>\n",
       "      <td>0.40395</td>\n",
       "      <td>0.500028</td>\n",
       "    </tr>\n",
       "    <tr>\n",
       "      <th>min</th>\n",
       "      <td>1.000000</td>\n",
       "      <td>23.000000</td>\n",
       "      <td>-3.000000</td>\n",
       "      <td>8.000000</td>\n",
       "      <td>9307.000000</td>\n",
       "      <td>1.000000</td>\n",
       "      <td>0.000000</td>\n",
       "      <td>1.000000</td>\n",
       "      <td>0.000000</td>\n",
       "      <td>0.000000</td>\n",
       "      <td>0.000000</td>\n",
       "      <td>0.000000</td>\n",
       "      <td>0.00000</td>\n",
       "      <td>0.000000</td>\n",
       "    </tr>\n",
       "    <tr>\n",
       "      <th>25%</th>\n",
       "      <td>1221.000000</td>\n",
       "      <td>36.000000</td>\n",
       "      <td>11.000000</td>\n",
       "      <td>59.000000</td>\n",
       "      <td>91942.000000</td>\n",
       "      <td>1.000000</td>\n",
       "      <td>1.200000</td>\n",
       "      <td>1.000000</td>\n",
       "      <td>0.000000</td>\n",
       "      <td>0.000000</td>\n",
       "      <td>0.000000</td>\n",
       "      <td>0.000000</td>\n",
       "      <td>0.00000</td>\n",
       "      <td>0.000000</td>\n",
       "    </tr>\n",
       "    <tr>\n",
       "      <th>50%</th>\n",
       "      <td>2425.500000</td>\n",
       "      <td>45.000000</td>\n",
       "      <td>20.000000</td>\n",
       "      <td>113.000000</td>\n",
       "      <td>93438.500000</td>\n",
       "      <td>2.000000</td>\n",
       "      <td>2.500000</td>\n",
       "      <td>2.000000</td>\n",
       "      <td>0.000000</td>\n",
       "      <td>0.000000</td>\n",
       "      <td>0.000000</td>\n",
       "      <td>0.000000</td>\n",
       "      <td>0.00000</td>\n",
       "      <td>0.500000</td>\n",
       "    </tr>\n",
       "    <tr>\n",
       "      <th>75%</th>\n",
       "      <td>3686.250000</td>\n",
       "      <td>54.000000</td>\n",
       "      <td>28.000000</td>\n",
       "      <td>147.000000</td>\n",
       "      <td>94655.250000</td>\n",
       "      <td>3.000000</td>\n",
       "      <td>4.152914</td>\n",
       "      <td>2.000000</td>\n",
       "      <td>116.250000</td>\n",
       "      <td>0.000000</td>\n",
       "      <td>0.000000</td>\n",
       "      <td>1.000000</td>\n",
       "      <td>0.00000</td>\n",
       "      <td>1.000000</td>\n",
       "    </tr>\n",
       "    <tr>\n",
       "      <th>max</th>\n",
       "      <td>5000.000000</td>\n",
       "      <td>67.000000</td>\n",
       "      <td>43.000000</td>\n",
       "      <td>224.000000</td>\n",
       "      <td>96651.000000</td>\n",
       "      <td>4.000000</td>\n",
       "      <td>10.000000</td>\n",
       "      <td>3.000000</td>\n",
       "      <td>635.000000</td>\n",
       "      <td>1.000000</td>\n",
       "      <td>1.000000</td>\n",
       "      <td>1.000000</td>\n",
       "      <td>1.00000</td>\n",
       "      <td>1.000000</td>\n",
       "    </tr>\n",
       "  </tbody>\n",
       "</table>\n",
       "</div>"
      ],
      "text/plain": [
       "                ID          Age   Experience       Income      ZIP.Code  \\\n",
       "count  9040.000000  9040.000000  9040.000000  9040.000000   9040.000000   \n",
       "mean   2459.289712    44.994027    19.771681   104.909624  93157.851438   \n",
       "std    1417.874461    10.582397    10.576934    51.588189   1969.408992   \n",
       "min       1.000000    23.000000    -3.000000     8.000000   9307.000000   \n",
       "25%    1221.000000    36.000000    11.000000    59.000000  91942.000000   \n",
       "50%    2425.500000    45.000000    20.000000   113.000000  93438.500000   \n",
       "75%    3686.250000    54.000000    28.000000   147.000000  94655.250000   \n",
       "max    5000.000000    67.000000    43.000000   224.000000  96651.000000   \n",
       "\n",
       "            Family        CCAvg    Education     Mortgage  Securities.Account  \\\n",
       "count  9040.000000  9040.000000  9040.000000  9040.000000         9040.000000   \n",
       "mean      2.327434     2.809416     1.891261    71.502544            0.063606   \n",
       "std       1.052068     1.978239     0.765886   118.030218            0.244064   \n",
       "min       1.000000     0.000000     1.000000     0.000000            0.000000   \n",
       "25%       1.000000     1.200000     1.000000     0.000000            0.000000   \n",
       "50%       2.000000     2.500000     2.000000     0.000000            0.000000   \n",
       "75%       3.000000     4.152914     2.000000   116.250000            0.000000   \n",
       "max       4.000000    10.000000     3.000000   635.000000            1.000000   \n",
       "\n",
       "        CD.Account       Online  CreditCard  Personal.Loan  \n",
       "count  9040.000000  9040.000000  9040.00000    9040.000000  \n",
       "mean      0.069801     0.491925     0.20531       0.500000  \n",
       "std       0.254825     0.499962     0.40395       0.500028  \n",
       "min       0.000000     0.000000     0.00000       0.000000  \n",
       "25%       0.000000     0.000000     0.00000       0.000000  \n",
       "50%       0.000000     0.000000     0.00000       0.500000  \n",
       "75%       0.000000     1.000000     0.00000       1.000000  \n",
       "max       1.000000     1.000000     1.00000       1.000000  "
      ]
     },
     "execution_count": 13,
     "metadata": {},
     "output_type": "execute_result"
    }
   ],
   "source": [
    "#Looking at the descriptive statistics of data\n",
    "BankLoanData_smote_over.describe(include='all')"
   ]
  },
  {
   "cell_type": "code",
   "execution_count": 14,
   "id": "dbfa5885",
   "metadata": {},
   "outputs": [
    {
     "data": {
      "text/plain": [
       "ID                    5000\n",
       "Age                     45\n",
       "Experience              47\n",
       "Income                 189\n",
       "ZIP.Code              2310\n",
       "Family                   4\n",
       "CCAvg                 4105\n",
       "Education                3\n",
       "Mortgage               519\n",
       "Securities.Account       2\n",
       "CD.Account               2\n",
       "Online                   2\n",
       "CreditCard               2\n",
       "Personal.Loan            2\n",
       "dtype: int64"
      ]
     },
     "execution_count": 14,
     "metadata": {},
     "output_type": "execute_result"
    }
   ],
   "source": [
    "#Finding unique values for each column\n",
    "#To understand which column is continuous and which one is categorical\n",
    "#Typically if the number of unique values are <20 then the variables is likely to be Category otherwise Continuous\n",
    "BankLoanData_smote_over.nunique()"
   ]
  },
  {
   "cell_type": "markdown",
   "id": "5351e688",
   "metadata": {},
   "source": [
    "ID is row number and ZIP.Code is qulitative-> can drop\n",
    "\n",
    "\n",
    "Family, Education, Securitis.Account, CD.Account, Online, CreditCard, Personal.Loan -> Categorical Variables\n",
    "\n",
    "\n",
    "Age, Experience, Income, CCAvg, Mortgage -> Continuous Variables"
   ]
  },
  {
   "cell_type": "markdown",
   "id": "0be3943d",
   "metadata": {},
   "source": [
    "# Removing useless columns from the data"
   ]
  },
  {
   "cell_type": "code",
   "execution_count": 15,
   "id": "5d9c71bc",
   "metadata": {},
   "outputs": [
    {
     "data": {
      "text/html": [
       "<div>\n",
       "<style scoped>\n",
       "    .dataframe tbody tr th:only-of-type {\n",
       "        vertical-align: middle;\n",
       "    }\n",
       "\n",
       "    .dataframe tbody tr th {\n",
       "        vertical-align: top;\n",
       "    }\n",
       "\n",
       "    .dataframe thead th {\n",
       "        text-align: right;\n",
       "    }\n",
       "</style>\n",
       "<table border=\"1\" class=\"dataframe\">\n",
       "  <thead>\n",
       "    <tr style=\"text-align: right;\">\n",
       "      <th></th>\n",
       "      <th>Age</th>\n",
       "      <th>Experience</th>\n",
       "      <th>Income</th>\n",
       "      <th>Family</th>\n",
       "      <th>CCAvg</th>\n",
       "      <th>Education</th>\n",
       "      <th>Mortgage</th>\n",
       "      <th>Securities.Account</th>\n",
       "      <th>CD.Account</th>\n",
       "      <th>Online</th>\n",
       "      <th>CreditCard</th>\n",
       "      <th>Personal.Loan</th>\n",
       "    </tr>\n",
       "  </thead>\n",
       "  <tbody>\n",
       "    <tr>\n",
       "      <th>0</th>\n",
       "      <td>25</td>\n",
       "      <td>1</td>\n",
       "      <td>49</td>\n",
       "      <td>4</td>\n",
       "      <td>1.6</td>\n",
       "      <td>1</td>\n",
       "      <td>0</td>\n",
       "      <td>1</td>\n",
       "      <td>0</td>\n",
       "      <td>0</td>\n",
       "      <td>0</td>\n",
       "      <td>0</td>\n",
       "    </tr>\n",
       "    <tr>\n",
       "      <th>1</th>\n",
       "      <td>45</td>\n",
       "      <td>19</td>\n",
       "      <td>34</td>\n",
       "      <td>3</td>\n",
       "      <td>1.5</td>\n",
       "      <td>1</td>\n",
       "      <td>0</td>\n",
       "      <td>1</td>\n",
       "      <td>0</td>\n",
       "      <td>0</td>\n",
       "      <td>0</td>\n",
       "      <td>0</td>\n",
       "    </tr>\n",
       "    <tr>\n",
       "      <th>2</th>\n",
       "      <td>39</td>\n",
       "      <td>15</td>\n",
       "      <td>11</td>\n",
       "      <td>1</td>\n",
       "      <td>1.0</td>\n",
       "      <td>1</td>\n",
       "      <td>0</td>\n",
       "      <td>0</td>\n",
       "      <td>0</td>\n",
       "      <td>0</td>\n",
       "      <td>0</td>\n",
       "      <td>0</td>\n",
       "    </tr>\n",
       "    <tr>\n",
       "      <th>3</th>\n",
       "      <td>35</td>\n",
       "      <td>9</td>\n",
       "      <td>100</td>\n",
       "      <td>1</td>\n",
       "      <td>2.7</td>\n",
       "      <td>2</td>\n",
       "      <td>0</td>\n",
       "      <td>0</td>\n",
       "      <td>0</td>\n",
       "      <td>0</td>\n",
       "      <td>0</td>\n",
       "      <td>0</td>\n",
       "    </tr>\n",
       "    <tr>\n",
       "      <th>4</th>\n",
       "      <td>35</td>\n",
       "      <td>8</td>\n",
       "      <td>45</td>\n",
       "      <td>4</td>\n",
       "      <td>1.0</td>\n",
       "      <td>2</td>\n",
       "      <td>0</td>\n",
       "      <td>0</td>\n",
       "      <td>0</td>\n",
       "      <td>0</td>\n",
       "      <td>1</td>\n",
       "      <td>0</td>\n",
       "    </tr>\n",
       "    <tr>\n",
       "      <th>5</th>\n",
       "      <td>37</td>\n",
       "      <td>13</td>\n",
       "      <td>29</td>\n",
       "      <td>4</td>\n",
       "      <td>0.4</td>\n",
       "      <td>2</td>\n",
       "      <td>155</td>\n",
       "      <td>0</td>\n",
       "      <td>0</td>\n",
       "      <td>1</td>\n",
       "      <td>0</td>\n",
       "      <td>0</td>\n",
       "    </tr>\n",
       "    <tr>\n",
       "      <th>6</th>\n",
       "      <td>53</td>\n",
       "      <td>27</td>\n",
       "      <td>72</td>\n",
       "      <td>2</td>\n",
       "      <td>1.5</td>\n",
       "      <td>2</td>\n",
       "      <td>0</td>\n",
       "      <td>0</td>\n",
       "      <td>0</td>\n",
       "      <td>1</td>\n",
       "      <td>0</td>\n",
       "      <td>0</td>\n",
       "    </tr>\n",
       "    <tr>\n",
       "      <th>7</th>\n",
       "      <td>50</td>\n",
       "      <td>24</td>\n",
       "      <td>22</td>\n",
       "      <td>1</td>\n",
       "      <td>0.3</td>\n",
       "      <td>3</td>\n",
       "      <td>0</td>\n",
       "      <td>0</td>\n",
       "      <td>0</td>\n",
       "      <td>0</td>\n",
       "      <td>1</td>\n",
       "      <td>0</td>\n",
       "    </tr>\n",
       "    <tr>\n",
       "      <th>8</th>\n",
       "      <td>35</td>\n",
       "      <td>10</td>\n",
       "      <td>81</td>\n",
       "      <td>3</td>\n",
       "      <td>0.6</td>\n",
       "      <td>2</td>\n",
       "      <td>104</td>\n",
       "      <td>0</td>\n",
       "      <td>0</td>\n",
       "      <td>1</td>\n",
       "      <td>0</td>\n",
       "      <td>0</td>\n",
       "    </tr>\n",
       "    <tr>\n",
       "      <th>9</th>\n",
       "      <td>34</td>\n",
       "      <td>9</td>\n",
       "      <td>180</td>\n",
       "      <td>1</td>\n",
       "      <td>8.9</td>\n",
       "      <td>3</td>\n",
       "      <td>0</td>\n",
       "      <td>0</td>\n",
       "      <td>0</td>\n",
       "      <td>0</td>\n",
       "      <td>0</td>\n",
       "      <td>1</td>\n",
       "    </tr>\n",
       "  </tbody>\n",
       "</table>\n",
       "</div>"
      ],
      "text/plain": [
       "   Age  Experience  Income  Family  CCAvg  Education  Mortgage  \\\n",
       "0   25           1      49       4    1.6          1         0   \n",
       "1   45          19      34       3    1.5          1         0   \n",
       "2   39          15      11       1    1.0          1         0   \n",
       "3   35           9     100       1    2.7          2         0   \n",
       "4   35           8      45       4    1.0          2         0   \n",
       "5   37          13      29       4    0.4          2       155   \n",
       "6   53          27      72       2    1.5          2         0   \n",
       "7   50          24      22       1    0.3          3         0   \n",
       "8   35          10      81       3    0.6          2       104   \n",
       "9   34           9     180       1    8.9          3         0   \n",
       "\n",
       "   Securities.Account  CD.Account  Online  CreditCard  Personal.Loan  \n",
       "0                   1           0       0           0              0  \n",
       "1                   1           0       0           0              0  \n",
       "2                   0           0       0           0              0  \n",
       "3                   0           0       0           0              0  \n",
       "4                   0           0       0           1              0  \n",
       "5                   0           0       1           0              0  \n",
       "6                   0           0       1           0              0  \n",
       "7                   0           0       0           1              0  \n",
       "8                   0           0       1           0              0  \n",
       "9                   0           0       0           0              1  "
      ]
     },
     "execution_count": 15,
     "metadata": {},
     "output_type": "execute_result"
    }
   ],
   "source": [
    "#Deleting those columns which are not useful in predictive analysis\n",
    "UselessCol=['ID', 'ZIP.Code']\n",
    "BankLoanData_smote_over=BankLoanData_smote_over.drop(UselessCol, axis=1)\n",
    "BankLoanData_smote_over.head(10)"
   ]
  },
  {
   "cell_type": "markdown",
   "id": "4ce08f90",
   "metadata": {},
   "source": [
    "# Visual Exploratory Data Analysis"
   ]
  },
  {
   "cell_type": "markdown",
   "id": "cf3ab5f5",
   "metadata": {},
   "source": [
    "### Visualize distribution of all the Categorical Predictor variables in the data using bar plots"
   ]
  },
  {
   "cell_type": "code",
   "execution_count": 16,
   "id": "99f2838b",
   "metadata": {},
   "outputs": [],
   "source": [
    "#Plotting multiple bar charts at once for Categorical variables\n",
    "#Since there is no default function which can plot bar charts for multiple columns at once\n",
    "#We are defining our own function for the same\n",
    "\n",
    "def PlotBarCharts(inpData, colsToPlot):\n",
    "    %matplotlib inline\n",
    "    import matplotlib.pyplot as plt\n",
    "    \n",
    "    #Generating multiple subplots\n",
    "    fig,subPlot=plt.subplots(nrows=1,ncols=len(colsToPlot), figsize=(20,5))\n",
    "    fig.suptitle('Bar charts of:'+ str(colsToPlot))\n",
    "    \n",
    "    for colName, plotNumber in zip(colsToPlot, range(len(colsToPlot))):\n",
    "        inpData.groupby(colName).size().plot(kind='bar', ax=subPlot[plotNumber])"
   ]
  },
  {
   "cell_type": "code",
   "execution_count": 17,
   "id": "88eb567e",
   "metadata": {},
   "outputs": [
    {
     "data": {
      "image/png": "[encoded data removed]",
      "text/plain": [
       "<Figure size 1440x360 with 6 Axes>"
      ]
     },
     "metadata": {
      "needs_background": "light"
     },
     "output_type": "display_data"
    }
   ],
   "source": [
    "#Callinng the function\n",
    "PlotBarCharts(inpData=BankLoanData_smote_over, \n",
    "              colsToPlot=['Family','Education','Securities.Account','CD.Account', 'Online', 'CreditCard'])"
   ]
  },
  {
   "cell_type": "markdown",
   "id": "ce4d3b24",
   "metadata": {},
   "source": [
    "### Visualize distribution of all the Continuous Predictor variables in the data using histogram"
   ]
  },
  {
   "cell_type": "code",
   "execution_count": 18,
   "id": "5ed1efee",
   "metadata": {},
   "outputs": [
    {
     "data": {
      "text/plain": [
       "array([[<AxesSubplot:title={'center':'Age'}>,\n",
       "        <AxesSubplot:title={'center':'Experience'}>],\n",
       "       [<AxesSubplot:title={'center':'Income'}>,\n",
       "        <AxesSubplot:title={'center':'CCAvg'}>],\n",
       "       [<AxesSubplot:title={'center':'Mortgage'}>, <AxesSubplot:>]],\n",
       "      dtype=object)"
      ]
     },
     "execution_count": 18,
     "metadata": {},
     "output_type": "execute_result"
    },
    {
     "data": {
      "image/png": "[encoded data removed]",
      "text/plain": [
       "<Figure size 1440x1080 with 6 Axes>"
      ]
     },
     "metadata": {
      "needs_background": "light"
     },
     "output_type": "display_data"
    }
   ],
   "source": [
    "#Plotting histograms of multiple columns together\n",
    "#Observe that there is some outliers,\n",
    "BankLoanData_smote_over.hist(['Age', 'Experience', 'Income', 'CCAvg', 'Mortgage'], figsize=(20,15))"
   ]
  },
  {
   "cell_type": "markdown",
   "id": "48b0a593",
   "metadata": {},
   "source": [
    "#### Outlier Treatment"
   ]
  },
  {
   "cell_type": "code",
   "execution_count": 19,
   "id": "f68dfa40",
   "metadata": {},
   "outputs": [
    {
     "data": {
      "text/plain": [
       "2422    400\n",
       "3919    400\n",
       "4698    400\n",
       "6099    400\n",
       "8541    399\n",
       "       ... \n",
       "4665      0\n",
       "4664      0\n",
       "1773      0\n",
       "4662      0\n",
       "0         0\n",
       "Name: Mortgage, Length: 8781, dtype: int64"
      ]
     },
     "execution_count": 19,
     "metadata": {},
     "output_type": "execute_result"
    }
   ],
   "source": [
    "#Finding nearest value to 400 mark in Mortgage\n",
    "BankLoanData_smote_over['Mortgage'][BankLoanData_smote_over['Mortgage']<=400].sort_values(ascending=False)"
   ]
  },
  {
   "cell_type": "code",
   "execution_count": 20,
   "id": "3bf8ee45",
   "metadata": {},
   "outputs": [],
   "source": [
    "#Replacing outliers with nearest possible values\n",
    "BankLoanData_smote_over['Mortgage'][BankLoanData_smote_over['Mortgage']>400]=400"
   ]
  },
  {
   "cell_type": "code",
   "execution_count": 21,
   "id": "ed7a9016",
   "metadata": {},
   "outputs": [
    {
     "data": {
      "text/plain": [
       "array([[<AxesSubplot:title={'center':'Mortgage'}>]], dtype=object)"
      ]
     },
     "execution_count": 21,
     "metadata": {},
     "output_type": "execute_result"
    },
    {
     "data": {
      "image/png": "[encoded data removed]",
      "text/plain": [
       "<Figure size 720x360 with 1 Axes>"
      ]
     },
     "metadata": {
      "needs_background": "light"
     },
     "output_type": "display_data"
    }
   ],
   "source": [
    "#Visualising distribution after outlier treatment\n",
    "BankLoanData_smote_over.hist(['Mortgage'], figsize=(10,5))"
   ]
  },
  {
   "cell_type": "markdown",
   "id": "d384021b",
   "metadata": {},
   "source": [
    "# Visual Rpresentation after outlier treatment"
   ]
  },
  {
   "cell_type": "code",
   "execution_count": 22,
   "id": "5adc096a",
   "metadata": {},
   "outputs": [
    {
     "data": {
      "text/plain": [
       "array([[<AxesSubplot:title={'center':'Age'}>,\n",
       "        <AxesSubplot:title={'center':'Experience'}>],\n",
       "       [<AxesSubplot:title={'center':'Income'}>,\n",
       "        <AxesSubplot:title={'center':'CCAvg'}>],\n",
       "       [<AxesSubplot:title={'center':'Mortgage'}>, <AxesSubplot:>]],\n",
       "      dtype=object)"
      ]
     },
     "execution_count": 22,
     "metadata": {},
     "output_type": "execute_result"
    },
    {
     "data": {
      "image/png": "[encoded data removed]",
      "text/plain": [
       "<Figure size 1440x1080 with 6 Axes>"
      ]
     },
     "metadata": {
      "needs_background": "light"
     },
     "output_type": "display_data"
    }
   ],
   "source": [
    "BankLoanData_smote_over.hist(['Age', 'Experience', 'Income', 'CCAvg', 'Mortgage'], figsize=(20,15))"
   ]
  },
  {
   "cell_type": "markdown",
   "id": "6804cce6",
   "metadata": {},
   "source": [
    "# Missing value treatment"
   ]
  },
  {
   "cell_type": "code",
   "execution_count": 23,
   "id": "acc65042",
   "metadata": {},
   "outputs": [
    {
     "data": {
      "text/plain": [
       "Age                   0\n",
       "Experience            0\n",
       "Income                0\n",
       "Family                0\n",
       "CCAvg                 0\n",
       "Education             0\n",
       "Mortgage              0\n",
       "Securities.Account    0\n",
       "CD.Account            0\n",
       "Online                0\n",
       "CreditCard            0\n",
       "Personal.Loan         0\n",
       "dtype: int64"
      ]
     },
     "execution_count": 23,
     "metadata": {},
     "output_type": "execute_result"
    }
   ],
   "source": [
    "#finding how many missing values for each column\n",
    "BankLoanData_smote_over.isnull().sum()"
   ]
  },
  {
   "cell_type": "markdown",
   "id": "a32e56ca",
   "metadata": {},
   "source": [
    "No columns has missing values"
   ]
  },
  {
   "cell_type": "markdown",
   "id": "d1af3d0b",
   "metadata": {},
   "source": [
    "# Feature Selection"
   ]
  },
  {
   "cell_type": "markdown",
   "id": "90d01bf1",
   "metadata": {},
   "source": [
    "# Relationship exploration: Categorical Vs Continuous -- Box Plots\n",
    "\n",
    "When the target variable is Categorical and the predictor variable is Continuous we analyze the relation using bar plots/Boxplots and measure the strength of relation using Anova test"
   ]
  },
  {
   "cell_type": "code",
   "execution_count": 24,
   "id": "a8d31267",
   "metadata": {},
   "outputs": [
    {
     "data": {
      "image/png": "[encoded data removed]",
      "text/plain": [
       "<Figure size 1296x360 with 5 Axes>"
      ]
     },
     "metadata": {
      "needs_background": "light"
     },
     "output_type": "display_data"
    }
   ],
   "source": [
    "#Box plots for Categorical Target Variable \"Personal.Loan\" and Continuous predictor\n",
    "ContinuousColsList=['Age', 'Experience', 'Income', 'CCAvg', 'Mortgage']\n",
    "import matplotlib.pyplot as plt\n",
    "fig, PlotCanvas=plt.subplots(nrows=1,ncols=len(ContinuousColsList), figsize=(18,5))\n",
    "\n",
    "#Creating box plots for each Continuous preedictor against Target Variable \"Personal.Loan\"\n",
    "for PredictorCol, i in zip(ContinuousColsList, range(len(ContinuousColsList))):\n",
    "    BankLoanData_smote_over.boxplot(column=PredictorCol, by='Personal.Loan',\n",
    "                                   figsize=(5,5), vert=True, ax=PlotCanvas[i])"
   ]
  },
  {
   "cell_type": "markdown",
   "id": "3f9e0abd",
   "metadata": {},
   "source": [
    "# Statistical Feature Selection (Categorical Vs Continuous) using ANOVA test"
   ]
  },
  {
   "cell_type": "code",
   "execution_count": 25,
   "id": "aad410f5",
   "metadata": {},
   "outputs": [],
   "source": [
    "#Defining a function to find the statistical relationship with all the categorical variables\n",
    "def FunctionAnova(inpData, TargetVariable, ContinuousPreditorList):\n",
    "    from scipy.stats import f_oneway\n",
    "    \n",
    "    #Creating empty list of final selected predictors\n",
    "    SelectedPreditors=[]\n",
    "    print(\"################################### ANOVA Results ################################### \\n\")\n",
    "    \n",
    "    for predictor in ContinuousPreditorList:\n",
    "        CategoryGroupLists=inpData.groupby(TargetVariable)[predictor].apply(list)\n",
    "        AnovaResults=f_oneway(*CategoryGroupLists)\n",
    "        \n",
    "        #If ANOVA P-Value is <0.05, that means we reject H0\n",
    "        if(AnovaResults[1]<0.05):\n",
    "            print(predictor, 'is correlated with', TargetVariable, '|P-Value', AnovaResults[1])\n",
    "            SelectedPreditors.append(predictor)\n",
    "        else:\n",
    "            print(predictor, 'is NOT correlated with', TargetVariable, '|P-Value', AnovaResults[1])\n",
    "            \n",
    "    return(SelectedPreditors)"
   ]
  },
  {
   "cell_type": "code",
   "execution_count": 26,
   "id": "eaaabbe3",
   "metadata": {},
   "outputs": [
    {
     "name": "stdout",
     "output_type": "stream",
     "text": [
      "################################### ANOVA Results ################################### \n",
      "\n",
      "Age is correlated with Personal.Loan |P-Value 0.0007962380338097193\n",
      "Experience is correlated with Personal.Loan |P-Value 0.0011853604974651187\n",
      "Income is correlated with Personal.Loan |P-Value 0.0\n",
      "CCAvg is correlated with Personal.Loan |P-Value 0.0\n",
      "Mortgage is correlated with Personal.Loan |P-Value 1.2769895295258067e-55\n"
     ]
    },
    {
     "data": {
      "text/plain": [
       "['Age', 'Experience', 'Income', 'CCAvg', 'Mortgage']"
      ]
     },
     "execution_count": 26,
     "metadata": {},
     "output_type": "execute_result"
    }
   ],
   "source": [
    "#Calling the function to check which continous variable correlated with target\n",
    "ContinuousVariables=['Age', 'Experience', 'Income', 'CCAvg', 'Mortgage']\n",
    "FunctionAnova(inpData=BankLoanData_smote_over, TargetVariable='Personal.Loan', ContinuousPreditorList=ContinuousVariables)"
   ]
  },
  {
   "cell_type": "markdown",
   "id": "3a79d8dd",
   "metadata": {},
   "source": [
    " # Relationship exploration: Categorical Vs Categorical -- Grouped Bar Charts\n",
    " \n",
    " When the target variable is Categorical and the predictor is also Categorical then we explore the correlation between them visually using barplots and statistically using Chi-square test"
   ]
  },
  {
   "cell_type": "code",
   "execution_count": 27,
   "id": "997c4c34",
   "metadata": {},
   "outputs": [
    {
     "data": {
      "image/png": "[encoded data removed]",
      "text/plain": [
       "<Figure size 720x2160 with 6 Axes>"
      ]
     },
     "metadata": {
      "needs_background": "light"
     },
     "output_type": "display_data"
    }
   ],
   "source": [
    "#Visual Inference using Grouped Bar charts\n",
    "CategoricalColsList=['Family','Education','Securities.Account','CD.Account', 'Online', 'CreditCard']\n",
    "\n",
    "import matplotlib.pyplot as plt\n",
    "fig, PlotCanvas=plt.subplots(nrows=len(CategoricalColsList), ncols=1, figsize=(10,30))\n",
    "\n",
    "#Creating Grouped bar plots for each categorical predictor against the target variable 'Personal.Loan'\n",
    "for CategoricalCol, i in zip(CategoricalColsList, range(len(CategoricalColsList))):\n",
    "    CrossTabResults=pd.crosstab(index=BankLoanData_smote_over[CategoricalCol], columns=BankLoanData_smote_over['Personal.Loan'])\n",
    "    \n",
    "    CrossTabResults.plot.bar(color=['red','green'], ax=PlotCanvas[i], title=CategoricalCol+'Vs'+'Personal.Loan')"
   ]
  },
  {
   "cell_type": "markdown",
   "id": "d7c7d8ee",
   "metadata": {},
   "source": [
    "# Statistical Feature Selection (Categorical Vs Categorical) using Chi-Square Test"
   ]
  },
  {
   "cell_type": "code",
   "execution_count": 28,
   "id": "15f6c721",
   "metadata": {},
   "outputs": [],
   "source": [
    "#Writing a function to find the correlation of all categorical variables with Target variable\n",
    "def FunctionChisq(inpData, TargetVariable, CategoricalVariablesList):\n",
    "    from scipy.stats import chi2_contingency\n",
    "    \n",
    "    #Creating an empty list of final selected predictors\n",
    "    SelectedPredictors=[]\n",
    "    \n",
    "    for predictor in CategoricalVariablesList:\n",
    "        CrossTabResults=pd.crosstab(index=inpData[TargetVariable], columns=inpData[predictor])\n",
    "        ChiSqResult=chi2_contingency(CrossTabResults)\n",
    "        \n",
    "        #If the ChiSq P-Value is <0.05, that means we reject Ho\n",
    "        if(ChiSqResult[1]<0.05):\n",
    "            print(predictor, 'is correlated with', TargetVariable,'|P-Value:', ChiSqResult[1])\n",
    "            SelectedPredictors.append(predictor)\n",
    "        else:\n",
    "            print(predictor, 'is NOT correlatedd with', TargetVariable,'|P-Value', ChiSqResult[1])\n",
    "    return(SelectedPredictors)"
   ]
  },
  {
   "cell_type": "code",
   "execution_count": 29,
   "id": "f6828c62",
   "metadata": {},
   "outputs": [
    {
     "name": "stdout",
     "output_type": "stream",
     "text": [
      "Family is correlated with Personal.Loan |P-Value: 2.5371395670418906e-105\n",
      "Education is correlated with Personal.Loan |P-Value: 6.05348070713575e-144\n",
      "Securities.Account is correlated with Personal.Loan |P-Value: 7.634889829717296e-51\n",
      "CD.Account is correlated with Personal.Loan |P-Value: 1.4345751659378431e-36\n",
      "Online is correlated with Personal.Loan |P-Value: 1.1108392147787683e-86\n",
      "CreditCard is correlated with Personal.Loan |P-Value: 1.1638371624469815e-95\n"
     ]
    },
    {
     "data": {
      "text/plain": [
       "['Family',\n",
       " 'Education',\n",
       " 'Securities.Account',\n",
       " 'CD.Account',\n",
       " 'Online',\n",
       " 'CreditCard']"
      ]
     },
     "execution_count": 29,
     "metadata": {},
     "output_type": "execute_result"
    }
   ],
   "source": [
    "CategoricalVariables=['Family','Education','Securities.Account','CD.Account', 'Online', 'CreditCard']\n",
    "#Calling the functions\n",
    "FunctionChisq(inpData=BankLoanData_smote_over, TargetVariable='Personal.Loan', CategoricalVariablesList=CategoricalVariables)"
   ]
  },
  {
   "cell_type": "markdown",
   "id": "0d571d61",
   "metadata": {},
   "source": [
    "# Selecting final predictors for Machine Learning"
   ]
  },
  {
   "cell_type": "code",
   "execution_count": 30,
   "id": "a86f10a7",
   "metadata": {},
   "outputs": [
    {
     "data": {
      "text/html": [
       "<div>\n",
       "<style scoped>\n",
       "    .dataframe tbody tr th:only-of-type {\n",
       "        vertical-align: middle;\n",
       "    }\n",
       "\n",
       "    .dataframe tbody tr th {\n",
       "        vertical-align: top;\n",
       "    }\n",
       "\n",
       "    .dataframe thead th {\n",
       "        text-align: right;\n",
       "    }\n",
       "</style>\n",
       "<table border=\"1\" class=\"dataframe\">\n",
       "  <thead>\n",
       "    <tr style=\"text-align: right;\">\n",
       "      <th></th>\n",
       "      <th>Family</th>\n",
       "      <th>Education</th>\n",
       "      <th>Securities.Account</th>\n",
       "      <th>CD.Account</th>\n",
       "      <th>Online</th>\n",
       "      <th>CreditCard</th>\n",
       "      <th>Age</th>\n",
       "      <th>Experience</th>\n",
       "      <th>Income</th>\n",
       "      <th>CCAvg</th>\n",
       "      <th>Mortgage</th>\n",
       "    </tr>\n",
       "  </thead>\n",
       "  <tbody>\n",
       "    <tr>\n",
       "      <th>0</th>\n",
       "      <td>4</td>\n",
       "      <td>1</td>\n",
       "      <td>1</td>\n",
       "      <td>0</td>\n",
       "      <td>0</td>\n",
       "      <td>0</td>\n",
       "      <td>25</td>\n",
       "      <td>1</td>\n",
       "      <td>49</td>\n",
       "      <td>1.6</td>\n",
       "      <td>0</td>\n",
       "    </tr>\n",
       "    <tr>\n",
       "      <th>1</th>\n",
       "      <td>3</td>\n",
       "      <td>1</td>\n",
       "      <td>1</td>\n",
       "      <td>0</td>\n",
       "      <td>0</td>\n",
       "      <td>0</td>\n",
       "      <td>45</td>\n",
       "      <td>19</td>\n",
       "      <td>34</td>\n",
       "      <td>1.5</td>\n",
       "      <td>0</td>\n",
       "    </tr>\n",
       "    <tr>\n",
       "      <th>2</th>\n",
       "      <td>1</td>\n",
       "      <td>1</td>\n",
       "      <td>0</td>\n",
       "      <td>0</td>\n",
       "      <td>0</td>\n",
       "      <td>0</td>\n",
       "      <td>39</td>\n",
       "      <td>15</td>\n",
       "      <td>11</td>\n",
       "      <td>1.0</td>\n",
       "      <td>0</td>\n",
       "    </tr>\n",
       "    <tr>\n",
       "      <th>3</th>\n",
       "      <td>1</td>\n",
       "      <td>2</td>\n",
       "      <td>0</td>\n",
       "      <td>0</td>\n",
       "      <td>0</td>\n",
       "      <td>0</td>\n",
       "      <td>35</td>\n",
       "      <td>9</td>\n",
       "      <td>100</td>\n",
       "      <td>2.7</td>\n",
       "      <td>0</td>\n",
       "    </tr>\n",
       "    <tr>\n",
       "      <th>4</th>\n",
       "      <td>4</td>\n",
       "      <td>2</td>\n",
       "      <td>0</td>\n",
       "      <td>0</td>\n",
       "      <td>0</td>\n",
       "      <td>1</td>\n",
       "      <td>35</td>\n",
       "      <td>8</td>\n",
       "      <td>45</td>\n",
       "      <td>1.0</td>\n",
       "      <td>0</td>\n",
       "    </tr>\n",
       "  </tbody>\n",
       "</table>\n",
       "</div>"
      ],
      "text/plain": [
       "   Family  Education  Securities.Account  CD.Account  Online  CreditCard  Age  \\\n",
       "0       4          1                   1           0       0           0   25   \n",
       "1       3          1                   1           0       0           0   45   \n",
       "2       1          1                   0           0       0           0   39   \n",
       "3       1          2                   0           0       0           0   35   \n",
       "4       4          2                   0           0       0           1   35   \n",
       "\n",
       "   Experience  Income  CCAvg  Mortgage  \n",
       "0           1      49    1.6         0  \n",
       "1          19      34    1.5         0  \n",
       "2          15      11    1.0         0  \n",
       "3           9     100    2.7         0  \n",
       "4           8      45    1.0         0  "
      ]
     },
     "execution_count": 30,
     "metadata": {},
     "output_type": "execute_result"
    }
   ],
   "source": [
    "SelectedColumns=['Family', 'Education', 'Securities.Account', 'CD.Account', 'Online', 'CreditCard',\n",
    "                 'Age', 'Experience', 'Income', 'CCAvg', 'Mortgage']\n",
    "#Selecting Final columns\n",
    "DataForML=BankLoanData_smote_over[SelectedColumns]\n",
    "DataForML.head()"
   ]
  },
  {
   "cell_type": "code",
   "execution_count": 31,
   "id": "5a4827b9",
   "metadata": {},
   "outputs": [],
   "source": [
    "#Saving the final data for refence during deployment\n",
    "DataForML.to_pickle('DataForML.pkl')"
   ]
  },
  {
   "cell_type": "markdown",
   "id": "f9bb7075",
   "metadata": {},
   "source": [
    "# Machine Learning: Splitting the data into Training and Testing sample"
   ]
  },
  {
   "cell_type": "code",
   "execution_count": 32,
   "id": "da2bb2d5",
   "metadata": {},
   "outputs": [
    {
     "data": {
      "text/html": [
       "<div>\n",
       "<style scoped>\n",
       "    .dataframe tbody tr th:only-of-type {\n",
       "        vertical-align: middle;\n",
       "    }\n",
       "\n",
       "    .dataframe tbody tr th {\n",
       "        vertical-align: top;\n",
       "    }\n",
       "\n",
       "    .dataframe thead th {\n",
       "        text-align: right;\n",
       "    }\n",
       "</style>\n",
       "<table border=\"1\" class=\"dataframe\">\n",
       "  <thead>\n",
       "    <tr style=\"text-align: right;\">\n",
       "      <th></th>\n",
       "      <th>Family</th>\n",
       "      <th>Education</th>\n",
       "      <th>Securities.Account</th>\n",
       "      <th>CD.Account</th>\n",
       "      <th>Online</th>\n",
       "      <th>CreditCard</th>\n",
       "      <th>Age</th>\n",
       "      <th>Experience</th>\n",
       "      <th>Income</th>\n",
       "      <th>CCAvg</th>\n",
       "      <th>Mortgage</th>\n",
       "      <th>Personal.Loan</th>\n",
       "    </tr>\n",
       "  </thead>\n",
       "  <tbody>\n",
       "    <tr>\n",
       "      <th>0</th>\n",
       "      <td>4</td>\n",
       "      <td>1</td>\n",
       "      <td>1</td>\n",
       "      <td>0</td>\n",
       "      <td>0</td>\n",
       "      <td>0</td>\n",
       "      <td>25</td>\n",
       "      <td>1</td>\n",
       "      <td>49</td>\n",
       "      <td>1.6</td>\n",
       "      <td>0</td>\n",
       "      <td>0</td>\n",
       "    </tr>\n",
       "    <tr>\n",
       "      <th>1</th>\n",
       "      <td>3</td>\n",
       "      <td>1</td>\n",
       "      <td>1</td>\n",
       "      <td>0</td>\n",
       "      <td>0</td>\n",
       "      <td>0</td>\n",
       "      <td>45</td>\n",
       "      <td>19</td>\n",
       "      <td>34</td>\n",
       "      <td>1.5</td>\n",
       "      <td>0</td>\n",
       "      <td>0</td>\n",
       "    </tr>\n",
       "    <tr>\n",
       "      <th>2</th>\n",
       "      <td>1</td>\n",
       "      <td>1</td>\n",
       "      <td>0</td>\n",
       "      <td>0</td>\n",
       "      <td>0</td>\n",
       "      <td>0</td>\n",
       "      <td>39</td>\n",
       "      <td>15</td>\n",
       "      <td>11</td>\n",
       "      <td>1.0</td>\n",
       "      <td>0</td>\n",
       "      <td>0</td>\n",
       "    </tr>\n",
       "    <tr>\n",
       "      <th>3</th>\n",
       "      <td>1</td>\n",
       "      <td>2</td>\n",
       "      <td>0</td>\n",
       "      <td>0</td>\n",
       "      <td>0</td>\n",
       "      <td>0</td>\n",
       "      <td>35</td>\n",
       "      <td>9</td>\n",
       "      <td>100</td>\n",
       "      <td>2.7</td>\n",
       "      <td>0</td>\n",
       "      <td>0</td>\n",
       "    </tr>\n",
       "    <tr>\n",
       "      <th>4</th>\n",
       "      <td>4</td>\n",
       "      <td>2</td>\n",
       "      <td>0</td>\n",
       "      <td>0</td>\n",
       "      <td>0</td>\n",
       "      <td>1</td>\n",
       "      <td>35</td>\n",
       "      <td>8</td>\n",
       "      <td>45</td>\n",
       "      <td>1.0</td>\n",
       "      <td>0</td>\n",
       "      <td>0</td>\n",
       "    </tr>\n",
       "  </tbody>\n",
       "</table>\n",
       "</div>"
      ],
      "text/plain": [
       "   Family  Education  Securities.Account  CD.Account  Online  CreditCard  Age  \\\n",
       "0       4          1                   1           0       0           0   25   \n",
       "1       3          1                   1           0       0           0   45   \n",
       "2       1          1                   0           0       0           0   39   \n",
       "3       1          2                   0           0       0           0   35   \n",
       "4       4          2                   0           0       0           1   35   \n",
       "\n",
       "   Experience  Income  CCAvg  Mortgage  Personal.Loan  \n",
       "0           1      49    1.6         0              0  \n",
       "1          19      34    1.5         0              0  \n",
       "2          15      11    1.0         0              0  \n",
       "3           9     100    2.7         0              0  \n",
       "4           8      45    1.0         0              0  "
      ]
     },
     "execution_count": 32,
     "metadata": {},
     "output_type": "execute_result"
    }
   ],
   "source": [
    "#Adding Target Variable to the data\n",
    "DataForML['Personal.Loan']=BankLoanData_smote_over['Personal.Loan']\n",
    "#Printing Sample rows\n",
    "DataForML.head()\n"
   ]
  },
  {
   "cell_type": "code",
   "execution_count": 33,
   "id": "470cb0f3",
   "metadata": {},
   "outputs": [
    {
     "data": {
      "text/plain": [
       "Index(['Family', 'Education', 'Securities.Account', 'CD.Account', 'Online',\n",
       "       'CreditCard', 'Age', 'Experience', 'Income', 'CCAvg', 'Mortgage',\n",
       "       'Personal.Loan'],\n",
       "      dtype='object')"
      ]
     },
     "execution_count": 33,
     "metadata": {},
     "output_type": "execute_result"
    }
   ],
   "source": [
    "#Printing all the column names into Training and Testing Sample\n",
    "DataForML.columns"
   ]
  },
  {
   "cell_type": "code",
   "execution_count": 34,
   "id": "dd41041b",
   "metadata": {},
   "outputs": [],
   "source": [
    "#Separate Target Variable and Predictor Variables\n",
    "TargetVariable='Personal.Loan'\n",
    "\n",
    "Predictors=['Family', 'Education', 'Securities.Account', 'CD.Account', 'Online',\n",
    "            'CreditCard', 'Age', 'Experience', 'Income', 'CCAvg', 'Mortgage',]\n",
    "\n",
    "X=DataForML[Predictors].values\n",
    "Y=DataForML[TargetVariable].values\n",
    "\n",
    "#Split the data into training and testing set\n",
    "from sklearn.model_selection import train_test_split\n",
    "X_train, X_test, Y_train, Y_test = train_test_split(X, Y, test_size=0.3, random_state=45)"
   ]
  },
  {
   "cell_type": "code",
   "execution_count": 35,
   "id": "80d5491c",
   "metadata": {},
   "outputs": [
    {
     "data": {
      "text/plain": [
       "array([[  4. ,   1. ,   1. ,   0. ,   0. ,   0. ,  25. ,   1. ,  49. ,\n",
       "          1.6,   0. ],\n",
       "       [  3. ,   1. ,   1. ,   0. ,   0. ,   0. ,  45. ,  19. ,  34. ,\n",
       "          1.5,   0. ],\n",
       "       [  1. ,   1. ,   0. ,   0. ,   0. ,   0. ,  39. ,  15. ,  11. ,\n",
       "          1. ,   0. ],\n",
       "       [  1. ,   2. ,   0. ,   0. ,   0. ,   0. ,  35. ,   9. , 100. ,\n",
       "          2.7,   0. ]])"
      ]
     },
     "execution_count": 35,
     "metadata": {},
     "output_type": "execute_result"
    }
   ],
   "source": [
    "X[0:4]"
   ]
  },
  {
   "cell_type": "markdown",
   "id": "5849c8eb",
   "metadata": {},
   "source": [
    "# Standardization/Normalization of data"
   ]
  },
  {
   "cell_type": "code",
   "execution_count": 36,
   "id": "f7d6602e",
   "metadata": {},
   "outputs": [],
   "source": [
    "#Standardization of Data\n",
    "from sklearn.preprocessing import StandardScaler, MinMaxScaler\n",
    "#choose either standardization or Normalization\n",
    "#On this data Min Max Nomalization produced better result\n",
    "\n",
    "#Choose between standarization and MinMax normalization\n",
    "PredictorScaler=StandardScaler()\n",
    "#PredictorScaler=MinMaxScaler()\n",
    "\n",
    "#Storing the fit object for letter reference\n",
    "PredictorScalerFit=PredictorScaler.fit(X)\n",
    "\n",
    "#Generating the standardization values of X\n",
    "X=PredictorScalerFit.transform(X)\n",
    "\n",
    "#Split the data into training and testing set\n",
    "from sklearn.model_selection import train_test_split\n",
    "X_train, X_test, Y_train, Y_test = train_test_split(X, Y, test_size=0.3, random_state=45)"
   ]
  },
  {
   "cell_type": "code",
   "execution_count": 37,
   "id": "fcdb17f4",
   "metadata": {
    "scrolled": true
   },
   "outputs": [
    {
     "name": "stdout",
     "output_type": "stream",
     "text": [
      "(6328, 11)\n",
      "(6328,)\n",
      "(2712, 11)\n",
      "(2712,)\n"
     ]
    }
   ],
   "source": [
    "print(X_train.shape)\n",
    "print(Y_train.shape)\n",
    "print(X_test.shape)\n",
    "print(Y_test.shape)"
   ]
  },
  {
   "cell_type": "code",
   "execution_count": 38,
   "id": "ff0607b9",
   "metadata": {
    "scrolled": true
   },
   "outputs": [
    {
     "data": {
      "text/plain": [
       "array([[ 1.58987671e+00, -1.16376367e+00,  3.83689186e+00,\n",
       "        -2.73931833e-01, -9.83977895e-01, -5.08283280e-01,\n",
       "        -1.88947098e+00, -1.77487352e+00, -1.08382787e+00,\n",
       "        -6.11393620e-01, -6.24560938e-01],\n",
       "       [ 6.39315502e-01, -1.16376367e+00,  3.83689186e+00,\n",
       "        -2.73931833e-01, -9.83977895e-01, -5.08283280e-01,\n",
       "         5.64501749e-04, -7.29629318e-02, -1.37460818e+00,\n",
       "        -6.61946415e-01, -6.24560938e-01],\n",
       "       [-1.26180691e+00, -1.16376367e+00, -2.60627622e-01,\n",
       "        -2.73931833e-01, -9.83977895e-01, -5.08283280e-01,\n",
       "        -5.66446144e-01, -4.51165285e-01, -1.82047133e+00,\n",
       "        -9.14710388e-01, -6.24560938e-01],\n",
       "       [-1.26180691e+00,  1.41985813e-01, -2.60627622e-01,\n",
       "        -2.73931833e-01, -9.83977895e-01, -5.08283280e-01,\n",
       "        -9.44453241e-01, -1.01846881e+00, -9.51747987e-02,\n",
       "        -5.53128786e-02, -6.24560938e-01]])"
      ]
     },
     "execution_count": 38,
     "metadata": {},
     "output_type": "execute_result"
    }
   ],
   "source": [
    "X[0:4]"
   ]
  },
  {
   "cell_type": "code",
   "execution_count": 39,
   "id": "6c163dd3",
   "metadata": {},
   "outputs": [
    {
     "name": "stdout",
     "output_type": "stream",
     "text": [
      "[[  4.    1.    1.    0.    0.    0.   25.    1.   49.    1.6   0. ]\n",
      " [  3.    1.    1.    0.    0.    0.   45.   19.   34.    1.5   0. ]\n",
      " [  1.    1.    0.    0.    0.    0.   39.   15.   11.    1.    0. ]\n",
      " [  1.    2.    0.    0.    0.    0.   35.    9.  100.    2.7   0. ]]\n"
     ]
    }
   ],
   "source": [
    "# Inverse transform will bring back the original scale\n",
    "print(PredictorScalerFit.inverse_transform(X)[0:4])"
   ]
  },
  {
   "cell_type": "markdown",
   "id": "805dba32",
   "metadata": {},
   "source": [
    "# Logistic Regression with Hyperparameter (GridSearchCV)"
   ]
  },
  {
   "cell_type": "code",
   "execution_count": 40,
   "id": "1d277281",
   "metadata": {},
   "outputs": [],
   "source": [
    "#Logistic Regression\n",
    "from sklearn.linear_model import LogisticRegression\n",
    "logModel=LogisticRegression()"
   ]
  },
  {
   "cell_type": "code",
   "execution_count": 41,
   "id": "d474d70a",
   "metadata": {},
   "outputs": [],
   "source": [
    "#GridSearchCV\n",
    "from sklearn.model_selection import GridSearchCV\n",
    "\n",
    "#Parameters to try\n",
    "#'C': [1,2,3,4,5,6,7,8,9,10]\n",
    "#'penalty' : ['l1', 'l2', 'elasticnet', None]\n",
    "#'Solver' : ['lbfgs', 'liblinear', 'newton-cg', 'newton-cholesky', 'sag', 'saga']\n",
    "Parameter_Trials1={'C' : [1,2,3,4,5,6,7,8,9,10],\n",
    "                  'penalty' : ['l1', 'l2', 'elasticnet', 'None'],\n",
    "                  'solver' : ['lbfgs', 'liblinear', 'newton-cg', 'newton-cholesky', 'sag', 'saga']\n",
    "                 }\n",
    "\n",
    "Grid_Search1=GridSearchCV(logModel, param_grid=Parameter_Trials1, cv=5, n_jobs=-1)"
   ]
  },
  {
   "cell_type": "code",
   "execution_count": 42,
   "id": "c1fb3d76",
   "metadata": {},
   "outputs": [],
   "source": [
    "GridSearchResults1=Grid_Search1.fit(X,Y)"
   ]
  },
  {
   "cell_type": "code",
   "execution_count": 43,
   "id": "6639c6a4",
   "metadata": {},
   "outputs": [
    {
     "name": "stdout",
     "output_type": "stream",
     "text": [
      "{'C': 4, 'penalty': 'l2', 'solver': 'newton-cg'}\n"
     ]
    }
   ],
   "source": [
    "#Fetching the best parameter\n",
    "print(GridSearchResults1.best_params_)"
   ]
  },
  {
   "cell_type": "markdown",
   "id": "52b0932c",
   "metadata": {},
   "source": [
    "# Logistic Regression"
   ]
  },
  {
   "cell_type": "code",
   "execution_count": 44,
   "id": "539f2bf4",
   "metadata": {},
   "outputs": [
    {
     "name": "stdout",
     "output_type": "stream",
     "text": [
      "              precision    recall  f1-score   support\n",
      "\n",
      "           0       0.91      0.89      0.90      1337\n",
      "           1       0.89      0.91      0.90      1375\n",
      "\n",
      "    accuracy                           0.90      2712\n",
      "   macro avg       0.90      0.90      0.90      2712\n",
      "weighted avg       0.90      0.90      0.90      2712\n",
      "\n",
      "[[1186  151]\n",
      " [ 118 1257]]\n",
      "Accuracy of the model on Testing Sample Data: 0.9\n",
      "\n",
      " Accuracy values for 10-fold cross valiation: \n",
      " [0.88163355 0.90375529 0.89933517 0.89710261 0.90596413 0.89591785\n",
      " 0.9148204  0.89600497 0.90483745 0.90375152]\n",
      "\n",
      " Final Average Accuracy of the model: 0.9\n"
     ]
    }
   ],
   "source": [
    "#Logistic Regression\n",
    "from sklearn.linear_model import LogisticRegression\n",
    "#choose parameter Penalty='l1' or C=1\n",
    "#choose different values for solver 'newton-cg', 'lbfgs', 'liblinear', 'sag', 'saga' \n",
    "clf=LogisticRegression(C=4, penalty='l1', solver='liblinear')\n",
    "\n",
    "#Printing all the parameters of logistic regression\n",
    "#print(clf)\n",
    "\n",
    "#Creating the model on Training Data\n",
    "LOG=clf.fit(X_train, Y_train)\n",
    "prediction=LOG.predict(X_test)\n",
    "\n",
    "#Measuring accuracy on Testing Data\n",
    "from sklearn import metrics\n",
    "print(metrics.classification_report(Y_test, prediction))\n",
    "print(metrics.confusion_matrix(Y_test, prediction))\n",
    "\n",
    "#Printing the overall accuracy of the model\n",
    "F1_Score=metrics.f1_score(Y_test, prediction, average='weighted')\n",
    "print('Accuracy of the model on Testing Sample Data:', round(F1_Score,2))\n",
    "\n",
    "#Importing cross validation funnction from sklearn\n",
    "from sklearn.model_selection import cross_val_score\n",
    "\n",
    "#Running 10-fold cross validation on a given algorithm\n",
    "#Passing full data X and Y because the K-fold will split the data and automatically choose train/test\n",
    "Accuracy_Values= cross_val_score(LOG, X, Y, cv=10, scoring='f1_weighted')\n",
    "print('\\n Accuracy values for 10-fold cross valiation: \\n', Accuracy_Values)\n",
    "print('\\n Final Average Accuracy of the model:', round(Accuracy_Values.mean(),2))"
   ]
  },
  {
   "cell_type": "markdown",
   "id": "c8fa5ca8",
   "metadata": {},
   "source": [
    "# Decision Trees"
   ]
  },
  {
   "cell_type": "code",
   "execution_count": 45,
   "id": "dd202fa8",
   "metadata": {},
   "outputs": [
    {
     "name": "stdout",
     "output_type": "stream",
     "text": [
      "{'criterion': 'gini', 'max_depth': 4}\n"
     ]
    }
   ],
   "source": [
    "#Decision Trees and twining Hyperparameters\n",
    "from sklearn import tree\n",
    "#choose from differnt tunable hyper parameter\n",
    "DTclf=tree.DecisionTreeClassifier()\n",
    "\n",
    "#GridSearchCV\n",
    "from sklearn.model_selection import GridSearchCV\n",
    "\n",
    "#Parameters to try\n",
    "#'max_depth' : [2,3,4,5]\n",
    "#'criterion' : ['entropy', 'gini']\n",
    "Parameter_Trials2={'max_depth' : [2,3,4,5],\n",
    "                   'criterion' : ['entropy', 'gini']}\n",
    "\n",
    "Grid_Search2 = GridSearchCV(DTclf, param_grid=Parameter_Trials2, cv=5, n_jobs=-1)\n",
    "\n",
    "GridSearchResults2 = Grid_Search2.fit(X,Y)\n",
    "\n",
    "#Fetching the best parameter\n",
    "print(GridSearchResults2.best_params_)"
   ]
  },
  {
   "cell_type": "code",
   "execution_count": 46,
   "id": "4bfe169a",
   "metadata": {},
   "outputs": [
    {
     "name": "stdout",
     "output_type": "stream",
     "text": [
      "DecisionTreeClassifier(max_depth=4)\n",
      "              precision    recall  f1-score   support\n",
      "\n",
      "           0       0.89      0.98      0.93      1337\n",
      "           1       0.98      0.88      0.93      1375\n",
      "\n",
      "    accuracy                           0.93      2712\n",
      "   macro avg       0.94      0.93      0.93      2712\n",
      "weighted avg       0.94      0.93      0.93      2712\n",
      "\n",
      "[[1315   22]\n",
      " [ 164 1211]]\n",
      "Accuracy of the model on Testing Sample Data : 0.93\n",
      "\n",
      " Accuracy values for 10-fold Cross Validation: \n",
      " [0.96347587 0.93907811 0.92346569 0.94013627 0.94350879 0.92903542\n",
      " 0.91911228 0.92450939 0.92226808 0.94463715]\n",
      "\n",
      " Final Accuracy of the model: 0.93\n"
     ]
    },
    {
     "data": {
      "image/png": "[encoded data removed]",
      "text/plain": [
       "<Figure size 432x288 with 1 Axes>"
      ]
     },
     "metadata": {
      "needs_background": "light"
     },
     "output_type": "display_data"
    }
   ],
   "source": [
    "#Decision Trees\n",
    "from sklearn import tree\n",
    "#choose from differnt tunable hyper parameter\n",
    "clf=tree.DecisionTreeClassifier(max_depth=4,criterion='gini')\n",
    "\n",
    "#Printing all the parameters of Decision Trees\n",
    "print(clf)\n",
    "\n",
    "#Creating the model on Training Data\n",
    "DTree=clf.fit(X_train, Y_train)\n",
    "prediction=DTree.predict(X_test)\n",
    "\n",
    "#Measuring the accuracy on Testing Data\n",
    "from sklearn import metrics\n",
    "print(metrics.classification_report(Y_test, prediction))\n",
    "print(metrics.confusion_matrix(Y_test, prediction))\n",
    "\n",
    "#Printing the overall accuracy of the model\n",
    "F1_Score= metrics.f1_score(Y_test, prediction, average='weighted')\n",
    "print('Accuracy of the model on Testing Sample Data :',round(F1_Score,2))\n",
    "\n",
    "#Plotting the feature importance for Top 10 most important columns\n",
    "%matplotlib inline\n",
    "feature_importances=pd.Series(DTree.feature_importances_,index=Predictors)\n",
    "feature_importances.nlargest(10).plot(kind='barh')\n",
    "\n",
    "#Importing cross validation function from sklearn\n",
    "from sklearn.model_selection import cross_val_score\n",
    "\n",
    "#Running 10-Fold Cross Validation on a given algorithm\n",
    "#Passing full data X and Y  because the K-fold will split the data and automatically choose train and test\n",
    "Accuracy_Values=cross_val_score(DTree, X, Y, cv=10, scoring='f1_weighted')\n",
    "print('\\n Accuracy values for 10-fold Cross Validation: \\n', Accuracy_Values)\n",
    "print('\\n Final Accuracy of the model:', round(Accuracy_Values.mean(),2))"
   ]
  },
  {
   "cell_type": "markdown",
   "id": "1ccf59d3",
   "metadata": {},
   "source": [
    "# Plotting a Decision Tree"
   ]
  },
  {
   "cell_type": "code",
   "execution_count": 47,
   "id": "dfb2484a",
   "metadata": {},
   "outputs": [
    {
     "name": "stdout",
     "output_type": "stream",
     "text": [
      "Requirement already satisfied: dtreeplt in c:\\users\\tamal\\anaconda3\\lib\\site-packages (0.1.43)\n",
      "Requirement already satisfied: numpy>=1.15.1 in c:\\users\\tamal\\anaconda3\\lib\\site-packages (from dtreeplt) (1.20.3)\n",
      "Requirement already satisfied: ipywidgets>=7.4.2 in c:\\users\\tamal\\anaconda3\\lib\\site-packages (from dtreeplt) (7.6.5)\n",
      "Requirement already satisfied: matplotlib>=3.0.2 in c:\\users\\tamal\\anaconda3\\lib\\site-packages (from dtreeplt) (3.4.3)\n",
      "Requirement already satisfied: ipython>=7.2.0 in c:\\users\\tamal\\anaconda3\\lib\\site-packages (from dtreeplt) (7.29.0)\n",
      "Requirement already satisfied: scikit-learn>=0.20.2 in c:\\users\\tamal\\anaconda3\\lib\\site-packages (from dtreeplt) (1.5.0)\n",
      "Requirement already satisfied: matplotlib-inline in c:\\users\\tamal\\anaconda3\\lib\\site-packages (from ipython>=7.2.0->dtreeplt) (0.1.2)\n",
      "Requirement already satisfied: colorama in c:\\users\\tamal\\anaconda3\\lib\\site-packages (from ipython>=7.2.0->dtreeplt) (0.4.4)\n",
      "Requirement already satisfied: pygments in c:\\users\\tamal\\anaconda3\\lib\\site-packages (from ipython>=7.2.0->dtreeplt) (2.10.0)\n",
      "Requirement already satisfied: traitlets>=4.2 in c:\\users\\tamal\\anaconda3\\lib\\site-packages (from ipython>=7.2.0->dtreeplt) (5.1.0)\n",
      "Requirement already satisfied: backcall in c:\\users\\tamal\\anaconda3\\lib\\site-packages (from ipython>=7.2.0->dtreeplt) (0.2.0)\n",
      "Requirement already satisfied: prompt-toolkit!=3.0.0,!=3.0.1,<3.1.0,>=2.0.0 in c:\\users\\tamal\\anaconda3\\lib\\site-packages (from ipython>=7.2.0->dtreeplt) (3.0.20)\n",
      "Requirement already satisfied: jedi>=0.16 in c:\\users\\tamal\\anaconda3\\lib\\site-packages (from ipython>=7.2.0->dtreeplt) (0.18.0)\n",
      "Requirement already satisfied: pickleshare in c:\\users\\tamal\\anaconda3\\lib\\site-packages (from ipython>=7.2.0->dtreeplt) (0.7.5)\n",
      "Requirement already satisfied: setuptools>=18.5 in c:\\users\\tamal\\anaconda3\\lib\\site-packages (from ipython>=7.2.0->dtreeplt) (58.0.4)\n",
      "Requirement already satisfied: decorator in c:\\users\\tamal\\anaconda3\\lib\\site-packages (from ipython>=7.2.0->dtreeplt) (5.1.0)\n",
      "Requirement already satisfied: nbformat>=4.2.0 in c:\\users\\tamal\\anaconda3\\lib\\site-packages (from ipywidgets>=7.4.2->dtreeplt) (5.1.3)\n",
      "Requirement already satisfied: jupyterlab-widgets>=1.0.0 in c:\\users\\tamal\\anaconda3\\lib\\site-packages (from ipywidgets>=7.4.2->dtreeplt) (1.0.0)\n",
      "Requirement already satisfied: ipython-genutils~=0.2.0 in c:\\users\\tamal\\anaconda3\\lib\\site-packages (from ipywidgets>=7.4.2->dtreeplt) (0.2.0)\n",
      "Requirement already satisfied: ipykernel>=4.5.1 in c:\\users\\tamal\\anaconda3\\lib\\site-packages (from ipywidgets>=7.4.2->dtreeplt) (6.4.1)\n",
      "Requirement already satisfied: widgetsnbextension~=3.5.0 in c:\\users\\tamal\\anaconda3\\lib\\site-packages (from ipywidgets>=7.4.2->dtreeplt) (3.5.1)\n",
      "Requirement already satisfied: jupyter-client<8.0 in c:\\users\\tamal\\anaconda3\\lib\\site-packages (from ipykernel>=4.5.1->ipywidgets>=7.4.2->dtreeplt) (6.1.12)\n",
      "Requirement already satisfied: tornado<7.0,>=4.2 in c:\\users\\tamal\\anaconda3\\lib\\site-packages (from ipykernel>=4.5.1->ipywidgets>=7.4.2->dtreeplt) (6.1)\n",
      "Requirement already satisfied: debugpy<2.0,>=1.0.0 in c:\\users\\tamal\\anaconda3\\lib\\site-packages (from ipykernel>=4.5.1->ipywidgets>=7.4.2->dtreeplt) (1.4.1)\n",
      "Requirement already satisfied: parso<0.9.0,>=0.8.0 in c:\\users\\tamal\\anaconda3\\lib\\site-packages (from jedi>=0.16->ipython>=7.2.0->dtreeplt) (0.8.2)\n",
      "Requirement already satisfied: python-dateutil>=2.1 in c:\\users\\tamal\\anaconda3\\lib\\site-packages (from jupyter-client<8.0->ipykernel>=4.5.1->ipywidgets>=7.4.2->dtreeplt) (2.8.2)\n",
      "Requirement already satisfied: pyzmq>=13 in c:\\users\\tamal\\anaconda3\\lib\\site-packages (from jupyter-client<8.0->ipykernel>=4.5.1->ipywidgets>=7.4.2->dtreeplt) (22.2.1)\n",
      "Requirement already satisfied: jupyter-core>=4.6.0 in c:\\users\\tamal\\anaconda3\\lib\\site-packages (from jupyter-client<8.0->ipykernel>=4.5.1->ipywidgets>=7.4.2->dtreeplt) (4.8.1)\n",
      "Requirement already satisfied: pywin32>=1.0 in c:\\users\\tamal\\anaconda3\\lib\\site-packages (from jupyter-core>=4.6.0->jupyter-client<8.0->ipykernel>=4.5.1->ipywidgets>=7.4.2->dtreeplt) (228)\n",
      "Requirement already satisfied: pillow>=6.2.0 in c:\\users\\tamal\\anaconda3\\lib\\site-packages (from matplotlib>=3.0.2->dtreeplt) (8.4.0)\n",
      "Requirement already satisfied: pyparsing>=2.2.1 in c:\\users\\tamal\\anaconda3\\lib\\site-packages (from matplotlib>=3.0.2->dtreeplt) (3.0.4)\n",
      "Requirement already satisfied: kiwisolver>=1.0.1 in c:\\users\\tamal\\anaconda3\\lib\\site-packages (from matplotlib>=3.0.2->dtreeplt) (1.3.1)\n",
      "Requirement already satisfied: cycler>=0.10 in c:\\users\\tamal\\anaconda3\\lib\\site-packages (from matplotlib>=3.0.2->dtreeplt) (0.10.0)\n",
      "Requirement already satisfied: six in c:\\users\\tamal\\anaconda3\\lib\\site-packages (from cycler>=0.10->matplotlib>=3.0.2->dtreeplt) (1.16.0)\n",
      "Requirement already satisfied: jsonschema!=2.5.0,>=2.4 in c:\\users\\tamal\\anaconda3\\lib\\site-packages (from nbformat>=4.2.0->ipywidgets>=7.4.2->dtreeplt) (3.2.0)\n",
      "Requirement already satisfied: attrs>=17.4.0 in c:\\users\\tamal\\anaconda3\\lib\\site-packages (from jsonschema!=2.5.0,>=2.4->nbformat>=4.2.0->ipywidgets>=7.4.2->dtreeplt) (21.2.0)\n",
      "Requirement already satisfied: pyrsistent>=0.14.0 in c:\\users\\tamal\\anaconda3\\lib\\site-packages (from jsonschema!=2.5.0,>=2.4->nbformat>=4.2.0->ipywidgets>=7.4.2->dtreeplt) (0.18.0)\n",
      "Requirement already satisfied: wcwidth in c:\\users\\tamal\\anaconda3\\lib\\site-packages (from prompt-toolkit!=3.0.0,!=3.0.1,<3.1.0,>=2.0.0->ipython>=7.2.0->dtreeplt) (0.2.5)\n",
      "Requirement already satisfied: scipy>=1.6.0 in c:\\users\\tamal\\anaconda3\\lib\\site-packages (from scikit-learn>=0.20.2->dtreeplt) (1.7.1)\n",
      "Requirement already satisfied: threadpoolctl>=3.1.0 in c:\\users\\tamal\\anaconda3\\lib\\site-packages (from scikit-learn>=0.20.2->dtreeplt) (3.5.0)\n",
      "Requirement already satisfied: joblib>=1.2.0 in c:\\users\\tamal\\anaconda3\\lib\\site-packages (from scikit-learn>=0.20.2->dtreeplt) (1.4.2)\n",
      "Requirement already satisfied: notebook>=4.4.1 in c:\\users\\tamal\\anaconda3\\lib\\site-packages (from widgetsnbextension~=3.5.0->ipywidgets>=7.4.2->dtreeplt) (6.4.5)\n",
      "Requirement already satisfied: prometheus-client in c:\\users\\tamal\\anaconda3\\lib\\site-packages (from notebook>=4.4.1->widgetsnbextension~=3.5.0->ipywidgets>=7.4.2->dtreeplt) (0.11.0)\n",
      "Requirement already satisfied: argon2-cffi in c:\\users\\tamal\\anaconda3\\lib\\site-packages (from notebook>=4.4.1->widgetsnbextension~=3.5.0->ipywidgets>=7.4.2->dtreeplt) (20.1.0)\n",
      "Requirement already satisfied: jinja2 in c:\\users\\tamal\\anaconda3\\lib\\site-packages (from notebook>=4.4.1->widgetsnbextension~=3.5.0->ipywidgets>=7.4.2->dtreeplt) (2.11.3)\n",
      "Requirement already satisfied: nbconvert in c:\\users\\tamal\\anaconda3\\lib\\site-packages (from notebook>=4.4.1->widgetsnbextension~=3.5.0->ipywidgets>=7.4.2->dtreeplt) (6.1.0)\n",
      "Requirement already satisfied: Send2Trash>=1.5.0 in c:\\users\\tamal\\anaconda3\\lib\\site-packages (from notebook>=4.4.1->widgetsnbextension~=3.5.0->ipywidgets>=7.4.2->dtreeplt) (1.8.0)\n",
      "Requirement already satisfied: terminado>=0.8.3 in c:\\users\\tamal\\anaconda3\\lib\\site-packages (from notebook>=4.4.1->widgetsnbextension~=3.5.0->ipywidgets>=7.4.2->dtreeplt) (0.9.4)\n",
      "Requirement already satisfied: pywinpty>=0.5 in c:\\users\\tamal\\anaconda3\\lib\\site-packages (from terminado>=0.8.3->notebook>=4.4.1->widgetsnbextension~=3.5.0->ipywidgets>=7.4.2->dtreeplt) (0.5.7)\n",
      "Requirement already satisfied: cffi>=1.0.0 in c:\\users\\tamal\\anaconda3\\lib\\site-packages (from argon2-cffi->notebook>=4.4.1->widgetsnbextension~=3.5.0->ipywidgets>=7.4.2->dtreeplt) (1.14.6)\n",
      "Requirement already satisfied: pycparser in c:\\users\\tamal\\anaconda3\\lib\\site-packages (from cffi>=1.0.0->argon2-cffi->notebook>=4.4.1->widgetsnbextension~=3.5.0->ipywidgets>=7.4.2->dtreeplt) (2.20)\n",
      "Requirement already satisfied: MarkupSafe>=0.23 in c:\\users\\tamal\\anaconda3\\lib\\site-packages (from jinja2->notebook>=4.4.1->widgetsnbextension~=3.5.0->ipywidgets>=7.4.2->dtreeplt) (1.1.1)\n",
      "Requirement already satisfied: testpath in c:\\users\\tamal\\anaconda3\\lib\\site-packages (from nbconvert->notebook>=4.4.1->widgetsnbextension~=3.5.0->ipywidgets>=7.4.2->dtreeplt) (0.5.0)\n",
      "Requirement already satisfied: pandocfilters>=1.4.1 in c:\\users\\tamal\\anaconda3\\lib\\site-packages (from nbconvert->notebook>=4.4.1->widgetsnbextension~=3.5.0->ipywidgets>=7.4.2->dtreeplt) (1.4.3)\n",
      "Requirement already satisfied: jupyterlab-pygments in c:\\users\\tamal\\anaconda3\\lib\\site-packages (from nbconvert->notebook>=4.4.1->widgetsnbextension~=3.5.0->ipywidgets>=7.4.2->dtreeplt) (0.1.2)\n",
      "Requirement already satisfied: nbclient<0.6.0,>=0.5.0 in c:\\users\\tamal\\anaconda3\\lib\\site-packages (from nbconvert->notebook>=4.4.1->widgetsnbextension~=3.5.0->ipywidgets>=7.4.2->dtreeplt) (0.5.3)\n",
      "Requirement already satisfied: mistune<2,>=0.8.1 in c:\\users\\tamal\\anaconda3\\lib\\site-packages (from nbconvert->notebook>=4.4.1->widgetsnbextension~=3.5.0->ipywidgets>=7.4.2->dtreeplt) (0.8.4)\n",
      "Requirement already satisfied: entrypoints>=0.2.2 in c:\\users\\tamal\\anaconda3\\lib\\site-packages (from nbconvert->notebook>=4.4.1->widgetsnbextension~=3.5.0->ipywidgets>=7.4.2->dtreeplt) (0.3)\n",
      "Requirement already satisfied: bleach in c:\\users\\tamal\\anaconda3\\lib\\site-packages (from nbconvert->notebook>=4.4.1->widgetsnbextension~=3.5.0->ipywidgets>=7.4.2->dtreeplt) (4.0.0)\n",
      "Requirement already satisfied: defusedxml in c:\\users\\tamal\\anaconda3\\lib\\site-packages (from nbconvert->notebook>=4.4.1->widgetsnbextension~=3.5.0->ipywidgets>=7.4.2->dtreeplt) (0.7.1)\n",
      "Requirement already satisfied: async-generator in c:\\users\\tamal\\anaconda3\\lib\\site-packages (from nbclient<0.6.0,>=0.5.0->nbconvert->notebook>=4.4.1->widgetsnbextension~=3.5.0->ipywidgets>=7.4.2->dtreeplt) (1.10)\n",
      "Requirement already satisfied: nest-asyncio in c:\\users\\tamal\\anaconda3\\lib\\site-packages (from nbclient<0.6.0,>=0.5.0->nbconvert->notebook>=4.4.1->widgetsnbextension~=3.5.0->ipywidgets>=7.4.2->dtreeplt) (1.5.1)\n",
      "Requirement already satisfied: webencodings in c:\\users\\tamal\\anaconda3\\lib\\site-packages (from bleach->nbconvert->notebook>=4.4.1->widgetsnbextension~=3.5.0->ipywidgets>=7.4.2->dtreeplt) (0.5.1)\n",
      "Requirement already satisfied: packaging in c:\\users\\tamal\\anaconda3\\lib\\site-packages (from bleach->nbconvert->notebook>=4.4.1->widgetsnbextension~=3.5.0->ipywidgets>=7.4.2->dtreeplt) (21.0)\n"
     ]
    }
   ],
   "source": [
    "#Tnstalling the required library for plotting the decision tree\n",
    "!pip install dtreeplt"
   ]
  },
  {
   "cell_type": "code",
   "execution_count": 48,
   "id": "10bf4033",
   "metadata": {},
   "outputs": [
    {
     "data": {
      "image/png": "[encoded data removed]",
      "text/plain": [
       "<Figure size 2160x720 with 1 Axes>"
      ]
     },
     "metadata": {},
     "output_type": "display_data"
    }
   ],
   "source": [
    "from dtreeplt import dtreeplt\n",
    "import matplotlib.pyplot as plt\n",
    "dtree=dtreeplt(model=clf, feature_names=Predictors, target_names=['0','1'])\n",
    "fig=dtree.view()\n",
    "currentFigure=plt.gcf()\n",
    "currentFigure.set_size_inches(30,10)"
   ]
  },
  {
   "cell_type": "code",
   "execution_count": null,
   "id": "29d5474f",
   "metadata": {},
   "outputs": [],
   "source": []
  },
  {
   "cell_type": "markdown",
   "id": "d12ddf5c",
   "metadata": {},
   "source": [
    "# Random Forest"
   ]
  },
  {
   "cell_type": "code",
   "execution_count": 49,
   "id": "cea7ea0e",
   "metadata": {},
   "outputs": [
    {
     "name": "stdout",
     "output_type": "stream",
     "text": [
      "{'criterion': 'entropy', 'max_depth': 5, 'n_estimators': 110}\n"
     ]
    }
   ],
   "source": [
    "#Random Forest and twining Hyperparameters\n",
    "from sklearn.ensemble import RandomForestClassifier\n",
    "#choose from differnt tunable hyper parameter\n",
    "RFclf=RandomForestClassifier(random_state=101)\n",
    "\n",
    "#GridSearchCV\n",
    "from sklearn.model_selection import GridSearchCV\n",
    "\n",
    "#Parameters to try\n",
    "#'n_estimators' : [50,100,110,120]\n",
    "#'max_depth' : [2,3,4,5]\n",
    "#'criterion' : ['entropy', 'gini']\n",
    "Parameter_Trials3={'n_estimators' : [50,100,110,120], \n",
    "                   'max_depth' : ['None',2,3,4,5],\n",
    "                   'criterion' : ['entropy', 'gini']}\n",
    "\n",
    "Grid_Search3 = GridSearchCV(RFclf, param_grid=Parameter_Trials3, cv=5, n_jobs=1)\n",
    "\n",
    "GridSearchResults3 = Grid_Search3.fit(X_train,Y_train)\n",
    "\n",
    "#Fetching the best parameter\n",
    "print(GridSearchResults3.best_params_)"
   ]
  },
  {
   "cell_type": "code",
   "execution_count": null,
   "id": "b633c619",
   "metadata": {},
   "outputs": [],
   "source": []
  },
  {
   "cell_type": "code",
   "execution_count": 50,
   "id": "0e5b1777",
   "metadata": {},
   "outputs": [
    {
     "name": "stdout",
     "output_type": "stream",
     "text": [
      "RandomForestClassifier(criterion='entropy', max_depth=5, n_estimators=110)\n",
      "              precision    recall  f1-score   support\n",
      "\n",
      "           0       0.98      0.91      0.95      1337\n",
      "           1       0.92      0.98      0.95      1375\n",
      "\n",
      "    accuracy                           0.95      2712\n",
      "   macro avg       0.95      0.95      0.95      2712\n",
      "weighted avg       0.95      0.95      0.95      2712\n",
      "\n",
      "[[1221  116]\n",
      " [  23 1352]]\n"
     ]
    },
    {
     "data": {
      "text/html": [
       "<div>\n",
       "<style scoped>\n",
       "    .dataframe tbody tr th:only-of-type {\n",
       "        vertical-align: middle;\n",
       "    }\n",
       "\n",
       "    .dataframe tbody tr th {\n",
       "        vertical-align: top;\n",
       "    }\n",
       "\n",
       "    .dataframe thead th {\n",
       "        text-align: right;\n",
       "    }\n",
       "</style>\n",
       "<table border=\"1\" class=\"dataframe\">\n",
       "  <thead>\n",
       "    <tr style=\"text-align: right;\">\n",
       "      <th></th>\n",
       "      <th>Family</th>\n",
       "      <th>Education</th>\n",
       "      <th>Securities.Account</th>\n",
       "      <th>CD.Account</th>\n",
       "      <th>Online</th>\n",
       "      <th>CreditCard</th>\n",
       "      <th>Age</th>\n",
       "      <th>Experience</th>\n",
       "      <th>Income</th>\n",
       "      <th>CCAvg</th>\n",
       "      <th>Mortgage</th>\n",
       "      <th>TargetColumn</th>\n",
       "      <th>Prediction</th>\n",
       "    </tr>\n",
       "  </thead>\n",
       "  <tbody>\n",
       "    <tr>\n",
       "      <th>0</th>\n",
       "      <td>1.589877</td>\n",
       "      <td>0.141986</td>\n",
       "      <td>-0.260628</td>\n",
       "      <td>3.650543</td>\n",
       "      <td>1.016283</td>\n",
       "      <td>1.967407</td>\n",
       "      <td>0.378572</td>\n",
       "      <td>0.399790</td>\n",
       "      <td>-1.452150</td>\n",
       "      <td>-1.218027</td>\n",
       "      <td>0.785985</td>\n",
       "      <td>0</td>\n",
       "      <td>0</td>\n",
       "    </tr>\n",
       "    <tr>\n",
       "      <th>1</th>\n",
       "      <td>-0.311246</td>\n",
       "      <td>1.447735</td>\n",
       "      <td>-0.260628</td>\n",
       "      <td>-0.273932</td>\n",
       "      <td>1.016283</td>\n",
       "      <td>1.967407</td>\n",
       "      <td>1.229088</td>\n",
       "      <td>1.156195</td>\n",
       "      <td>-0.618579</td>\n",
       "      <td>-0.257524</td>\n",
       "      <td>1.387938</td>\n",
       "      <td>0</td>\n",
       "      <td>0</td>\n",
       "    </tr>\n",
       "    <tr>\n",
       "      <th>2</th>\n",
       "      <td>-0.311246</td>\n",
       "      <td>0.141986</td>\n",
       "      <td>-0.260628</td>\n",
       "      <td>-0.273932</td>\n",
       "      <td>-0.983978</td>\n",
       "      <td>-0.508283</td>\n",
       "      <td>1.512593</td>\n",
       "      <td>1.534397</td>\n",
       "      <td>1.184259</td>\n",
       "      <td>-0.120422</td>\n",
       "      <td>-0.624561</td>\n",
       "      <td>1</td>\n",
       "      <td>1</td>\n",
       "    </tr>\n",
       "    <tr>\n",
       "      <th>3</th>\n",
       "      <td>0.639316</td>\n",
       "      <td>0.141986</td>\n",
       "      <td>-0.260628</td>\n",
       "      <td>-0.273932</td>\n",
       "      <td>1.016283</td>\n",
       "      <td>-0.508283</td>\n",
       "      <td>0.284070</td>\n",
       "      <td>0.210689</td>\n",
       "      <td>1.164873</td>\n",
       "      <td>0.538708</td>\n",
       "      <td>-0.624561</td>\n",
       "      <td>1</td>\n",
       "      <td>1</td>\n",
       "    </tr>\n",
       "    <tr>\n",
       "      <th>4</th>\n",
       "      <td>-1.261807</td>\n",
       "      <td>-1.163764</td>\n",
       "      <td>-0.260628</td>\n",
       "      <td>-0.273932</td>\n",
       "      <td>-0.983978</td>\n",
       "      <td>-0.508283</td>\n",
       "      <td>0.662077</td>\n",
       "      <td>0.683442</td>\n",
       "      <td>-0.424726</td>\n",
       "      <td>0.428728</td>\n",
       "      <td>-0.067530</td>\n",
       "      <td>1</td>\n",
       "      <td>0</td>\n",
       "    </tr>\n",
       "  </tbody>\n",
       "</table>\n",
       "</div>"
      ],
      "text/plain": [
       "     Family  Education  Securities.Account  CD.Account    Online  CreditCard  \\\n",
       "0  1.589877   0.141986           -0.260628    3.650543  1.016283    1.967407   \n",
       "1 -0.311246   1.447735           -0.260628   -0.273932  1.016283    1.967407   \n",
       "2 -0.311246   0.141986           -0.260628   -0.273932 -0.983978   -0.508283   \n",
       "3  0.639316   0.141986           -0.260628   -0.273932  1.016283   -0.508283   \n",
       "4 -1.261807  -1.163764           -0.260628   -0.273932 -0.983978   -0.508283   \n",
       "\n",
       "        Age  Experience    Income     CCAvg  Mortgage  TargetColumn  \\\n",
       "0  0.378572    0.399790 -1.452150 -1.218027  0.785985             0   \n",
       "1  1.229088    1.156195 -0.618579 -0.257524  1.387938             0   \n",
       "2  1.512593    1.534397  1.184259 -0.120422 -0.624561             1   \n",
       "3  0.284070    0.210689  1.164873  0.538708 -0.624561             1   \n",
       "4  0.662077    0.683442 -0.424726  0.428728 -0.067530             1   \n",
       "\n",
       "   Prediction  \n",
       "0           0  \n",
       "1           0  \n",
       "2           1  \n",
       "3           1  \n",
       "4           0  "
      ]
     },
     "execution_count": 50,
     "metadata": {},
     "output_type": "execute_result"
    },
    {
     "data": {
      "image/png": "[encoded data removed]",
      "text/plain": [
       "<Figure size 432x288 with 1 Axes>"
      ]
     },
     "metadata": {
      "needs_background": "light"
     },
     "output_type": "display_data"
    }
   ],
   "source": [
    "#Random Forest Classification\n",
    "from sklearn.ensemble import RandomForestClassifier\n",
    "clf = RandomForestClassifier(n_estimators=110, max_depth=5, criterion='entropy')\n",
    "\n",
    "#Printing all the parameters of Random forest\n",
    "print(clf)\n",
    "\n",
    "#Creating the model on Training Data\n",
    "RF = clf.fit(X_train, Y_train)\n",
    "prediction=RF.predict(X_test)\n",
    "\n",
    "#Measuring accuracy on Testing Data\n",
    "from sklearn import metrics\n",
    "print(metrics.classification_report(Y_test, prediction))\n",
    "print(metrics.confusion_matrix(Y_test, prediction))\n",
    "\n",
    "#Plotting the feature importance for Top 10 most important columns\n",
    "%matplotlib inline\n",
    "feature_importances = pd.Series(RF.feature_importances_, index=Predictors)\n",
    "feature_importances.nlargest(10).plot(kind='barh')\n",
    "\n",
    "#Printing some sample values of prediction\n",
    "TestingDataResults=pd.DataFrame(data=X_test, columns=Predictors)\n",
    "TestingDataResults['TargetColumn']=Y_test\n",
    "TestingDataResults['Prediction']=prediction\n",
    "TestingDataResults.head()"
   ]
  },
  {
   "cell_type": "code",
   "execution_count": 51,
   "id": "a9153a60",
   "metadata": {},
   "outputs": [
    {
     "name": "stdout",
     "output_type": "stream",
     "text": [
      "RandomForestClassifier()\n",
      "              precision    recall  f1-score   support\n",
      "\n",
      "           0       0.97      0.98      0.98      1337\n",
      "           1       0.98      0.97      0.98      1375\n",
      "\n",
      "    accuracy                           0.98      2712\n",
      "   macro avg       0.98      0.98      0.98      2712\n",
      "weighted avg       0.98      0.98      0.98      2712\n",
      "\n",
      "[[1307   30]\n",
      " [  35 1340]]\n"
     ]
    },
    {
     "data": {
      "text/html": [
       "<div>\n",
       "<style scoped>\n",
       "    .dataframe tbody tr th:only-of-type {\n",
       "        vertical-align: middle;\n",
       "    }\n",
       "\n",
       "    .dataframe tbody tr th {\n",
       "        vertical-align: top;\n",
       "    }\n",
       "\n",
       "    .dataframe thead th {\n",
       "        text-align: right;\n",
       "    }\n",
       "</style>\n",
       "<table border=\"1\" class=\"dataframe\">\n",
       "  <thead>\n",
       "    <tr style=\"text-align: right;\">\n",
       "      <th></th>\n",
       "      <th>Family</th>\n",
       "      <th>Education</th>\n",
       "      <th>Securities.Account</th>\n",
       "      <th>CD.Account</th>\n",
       "      <th>Online</th>\n",
       "      <th>CreditCard</th>\n",
       "      <th>Age</th>\n",
       "      <th>Experience</th>\n",
       "      <th>Income</th>\n",
       "      <th>CCAvg</th>\n",
       "      <th>Mortgage</th>\n",
       "      <th>TargetColumn</th>\n",
       "      <th>Prediction</th>\n",
       "    </tr>\n",
       "  </thead>\n",
       "  <tbody>\n",
       "    <tr>\n",
       "      <th>0</th>\n",
       "      <td>1.589877</td>\n",
       "      <td>0.141986</td>\n",
       "      <td>-0.260628</td>\n",
       "      <td>3.650543</td>\n",
       "      <td>1.016283</td>\n",
       "      <td>1.967407</td>\n",
       "      <td>0.378572</td>\n",
       "      <td>0.399790</td>\n",
       "      <td>-1.452150</td>\n",
       "      <td>-1.218027</td>\n",
       "      <td>0.785985</td>\n",
       "      <td>0</td>\n",
       "      <td>0</td>\n",
       "    </tr>\n",
       "    <tr>\n",
       "      <th>1</th>\n",
       "      <td>-0.311246</td>\n",
       "      <td>1.447735</td>\n",
       "      <td>-0.260628</td>\n",
       "      <td>-0.273932</td>\n",
       "      <td>1.016283</td>\n",
       "      <td>1.967407</td>\n",
       "      <td>1.229088</td>\n",
       "      <td>1.156195</td>\n",
       "      <td>-0.618579</td>\n",
       "      <td>-0.257524</td>\n",
       "      <td>1.387938</td>\n",
       "      <td>0</td>\n",
       "      <td>0</td>\n",
       "    </tr>\n",
       "    <tr>\n",
       "      <th>2</th>\n",
       "      <td>-0.311246</td>\n",
       "      <td>0.141986</td>\n",
       "      <td>-0.260628</td>\n",
       "      <td>-0.273932</td>\n",
       "      <td>-0.983978</td>\n",
       "      <td>-0.508283</td>\n",
       "      <td>1.512593</td>\n",
       "      <td>1.534397</td>\n",
       "      <td>1.184259</td>\n",
       "      <td>-0.120422</td>\n",
       "      <td>-0.624561</td>\n",
       "      <td>1</td>\n",
       "      <td>1</td>\n",
       "    </tr>\n",
       "    <tr>\n",
       "      <th>3</th>\n",
       "      <td>0.639316</td>\n",
       "      <td>0.141986</td>\n",
       "      <td>-0.260628</td>\n",
       "      <td>-0.273932</td>\n",
       "      <td>1.016283</td>\n",
       "      <td>-0.508283</td>\n",
       "      <td>0.284070</td>\n",
       "      <td>0.210689</td>\n",
       "      <td>1.164873</td>\n",
       "      <td>0.538708</td>\n",
       "      <td>-0.624561</td>\n",
       "      <td>1</td>\n",
       "      <td>1</td>\n",
       "    </tr>\n",
       "    <tr>\n",
       "      <th>4</th>\n",
       "      <td>-1.261807</td>\n",
       "      <td>-1.163764</td>\n",
       "      <td>-0.260628</td>\n",
       "      <td>-0.273932</td>\n",
       "      <td>-0.983978</td>\n",
       "      <td>-0.508283</td>\n",
       "      <td>0.662077</td>\n",
       "      <td>0.683442</td>\n",
       "      <td>-0.424726</td>\n",
       "      <td>0.428728</td>\n",
       "      <td>-0.067530</td>\n",
       "      <td>1</td>\n",
       "      <td>1</td>\n",
       "    </tr>\n",
       "  </tbody>\n",
       "</table>\n",
       "</div>"
      ],
      "text/plain": [
       "     Family  Education  Securities.Account  CD.Account    Online  CreditCard  \\\n",
       "0  1.589877   0.141986           -0.260628    3.650543  1.016283    1.967407   \n",
       "1 -0.311246   1.447735           -0.260628   -0.273932  1.016283    1.967407   \n",
       "2 -0.311246   0.141986           -0.260628   -0.273932 -0.983978   -0.508283   \n",
       "3  0.639316   0.141986           -0.260628   -0.273932  1.016283   -0.508283   \n",
       "4 -1.261807  -1.163764           -0.260628   -0.273932 -0.983978   -0.508283   \n",
       "\n",
       "        Age  Experience    Income     CCAvg  Mortgage  TargetColumn  \\\n",
       "0  0.378572    0.399790 -1.452150 -1.218027  0.785985             0   \n",
       "1  1.229088    1.156195 -0.618579 -0.257524  1.387938             0   \n",
       "2  1.512593    1.534397  1.184259 -0.120422 -0.624561             1   \n",
       "3  0.284070    0.210689  1.164873  0.538708 -0.624561             1   \n",
       "4  0.662077    0.683442 -0.424726  0.428728 -0.067530             1   \n",
       "\n",
       "   Prediction  \n",
       "0           0  \n",
       "1           0  \n",
       "2           1  \n",
       "3           1  \n",
       "4           1  "
      ]
     },
     "execution_count": 51,
     "metadata": {},
     "output_type": "execute_result"
    },
    {
     "data": {
      "image/png": "[encoded data removed]",
      "text/plain": [
       "<Figure size 432x288 with 1 Axes>"
      ]
     },
     "metadata": {
      "needs_background": "light"
     },
     "output_type": "display_data"
    }
   ],
   "source": [
    "#Random Forest Classification\n",
    "from sklearn.ensemble import RandomForestClassifier\n",
    "clf = RandomForestClassifier(n_estimators=100, criterion='gini')\n",
    "\n",
    "#Printing all the parameters of Random forest\n",
    "print(clf)\n",
    "\n",
    "#Creating the model on Training Data\n",
    "RF = clf.fit(X_train, Y_train)\n",
    "prediction=RF.predict(X_test)\n",
    "\n",
    "#Measuring accuracy on Testing Data\n",
    "from sklearn import metrics\n",
    "print(metrics.classification_report(Y_test, prediction))\n",
    "print(metrics.confusion_matrix(Y_test, prediction))\n",
    "\n",
    "#Plotting the feature importance for Top 10 most important columns\n",
    "%matplotlib inline\n",
    "feature_importances = pd.Series(RF.feature_importances_, index=Predictors)\n",
    "feature_importances.nlargest(10).plot(kind='barh')\n",
    "\n",
    "#Printing some sample values of prediction\n",
    "TestingDataResults=pd.DataFrame(data=X_test, columns=Predictors)\n",
    "TestingDataResults['TargetColumn']=Y_test\n",
    "TestingDataResults['Prediction']=prediction\n",
    "TestingDataResults.head()"
   ]
  },
  {
   "cell_type": "code",
   "execution_count": null,
   "id": "8e7428e0",
   "metadata": {},
   "outputs": [],
   "source": []
  },
  {
   "cell_type": "markdown",
   "id": "2ed8a81e",
   "metadata": {},
   "source": [
    "# AdaBoost"
   ]
  },
  {
   "cell_type": "code",
   "execution_count": 52,
   "id": "c64626e5",
   "metadata": {},
   "outputs": [
    {
     "name": "stdout",
     "output_type": "stream",
     "text": [
      "{'n_estimators': 110}\n"
     ]
    }
   ],
   "source": [
    "#AdaBoost and twining Hyperparameters\n",
    "from sklearn.ensemble import AdaBoostClassifier\n",
    "from sklearn.tree import DecisionTreeClassifier\n",
    "#choose from differnt tunable hyper parameter\n",
    "DTclf = DecisionTreeClassifier(max_depth=1)\n",
    "ABclf=AdaBoostClassifier(random_state=101)\n",
    "\n",
    "#GridSearchCV\n",
    "from sklearn.model_selection import GridSearchCV\n",
    "\n",
    "#Parameters to try\n",
    "#'n_estimators' : [50,100,110,120]\n",
    "Parameter_Trials4={'n_estimators' : [50,100,110,120]}\n",
    "\n",
    "Grid_Search4 = GridSearchCV(ABclf, param_grid=Parameter_Trials4, cv=5, n_jobs=1)\n",
    "\n",
    "GridSearchResults4 = Grid_Search4.fit(X_train,Y_train)\n",
    "\n",
    "#Fetching the best parameter\n",
    "print(GridSearchResults4.best_params_)"
   ]
  },
  {
   "cell_type": "code",
   "execution_count": 53,
   "id": "373c9323",
   "metadata": {},
   "outputs": [
    {
     "name": "stdout",
     "output_type": "stream",
     "text": [
      "AdaBoostClassifier(estimator=DecisionTreeClassifier(max_depth=1),\n",
      "                   learning_rate=1, n_estimators=110)\n",
      "              precision    recall  f1-score   support\n",
      "\n",
      "           0       0.95      0.95      0.95      1337\n",
      "           1       0.95      0.95      0.95      1375\n",
      "\n",
      "    accuracy                           0.95      2712\n",
      "   macro avg       0.95      0.95      0.95      2712\n",
      "weighted avg       0.95      0.95      0.95      2712\n",
      "\n",
      "[[1265   72]\n",
      " [  64 1311]]\n"
     ]
    },
    {
     "data": {
      "text/html": [
       "<div>\n",
       "<style scoped>\n",
       "    .dataframe tbody tr th:only-of-type {\n",
       "        vertical-align: middle;\n",
       "    }\n",
       "\n",
       "    .dataframe tbody tr th {\n",
       "        vertical-align: top;\n",
       "    }\n",
       "\n",
       "    .dataframe thead th {\n",
       "        text-align: right;\n",
       "    }\n",
       "</style>\n",
       "<table border=\"1\" class=\"dataframe\">\n",
       "  <thead>\n",
       "    <tr style=\"text-align: right;\">\n",
       "      <th></th>\n",
       "      <th>Family</th>\n",
       "      <th>Education</th>\n",
       "      <th>Securities.Account</th>\n",
       "      <th>CD.Account</th>\n",
       "      <th>Online</th>\n",
       "      <th>CreditCard</th>\n",
       "      <th>Age</th>\n",
       "      <th>Experience</th>\n",
       "      <th>Income</th>\n",
       "      <th>CCAvg</th>\n",
       "      <th>Mortgage</th>\n",
       "      <th>TargetColumn</th>\n",
       "      <th>Prediction</th>\n",
       "    </tr>\n",
       "  </thead>\n",
       "  <tbody>\n",
       "    <tr>\n",
       "      <th>0</th>\n",
       "      <td>1.589877</td>\n",
       "      <td>0.141986</td>\n",
       "      <td>-0.260628</td>\n",
       "      <td>3.650543</td>\n",
       "      <td>1.016283</td>\n",
       "      <td>1.967407</td>\n",
       "      <td>0.378572</td>\n",
       "      <td>0.399790</td>\n",
       "      <td>-1.452150</td>\n",
       "      <td>-1.218027</td>\n",
       "      <td>0.785985</td>\n",
       "      <td>0</td>\n",
       "      <td>0</td>\n",
       "    </tr>\n",
       "    <tr>\n",
       "      <th>1</th>\n",
       "      <td>-0.311246</td>\n",
       "      <td>1.447735</td>\n",
       "      <td>-0.260628</td>\n",
       "      <td>-0.273932</td>\n",
       "      <td>1.016283</td>\n",
       "      <td>1.967407</td>\n",
       "      <td>1.229088</td>\n",
       "      <td>1.156195</td>\n",
       "      <td>-0.618579</td>\n",
       "      <td>-0.257524</td>\n",
       "      <td>1.387938</td>\n",
       "      <td>0</td>\n",
       "      <td>0</td>\n",
       "    </tr>\n",
       "    <tr>\n",
       "      <th>2</th>\n",
       "      <td>-0.311246</td>\n",
       "      <td>0.141986</td>\n",
       "      <td>-0.260628</td>\n",
       "      <td>-0.273932</td>\n",
       "      <td>-0.983978</td>\n",
       "      <td>-0.508283</td>\n",
       "      <td>1.512593</td>\n",
       "      <td>1.534397</td>\n",
       "      <td>1.184259</td>\n",
       "      <td>-0.120422</td>\n",
       "      <td>-0.624561</td>\n",
       "      <td>1</td>\n",
       "      <td>1</td>\n",
       "    </tr>\n",
       "    <tr>\n",
       "      <th>3</th>\n",
       "      <td>0.639316</td>\n",
       "      <td>0.141986</td>\n",
       "      <td>-0.260628</td>\n",
       "      <td>-0.273932</td>\n",
       "      <td>1.016283</td>\n",
       "      <td>-0.508283</td>\n",
       "      <td>0.284070</td>\n",
       "      <td>0.210689</td>\n",
       "      <td>1.164873</td>\n",
       "      <td>0.538708</td>\n",
       "      <td>-0.624561</td>\n",
       "      <td>1</td>\n",
       "      <td>1</td>\n",
       "    </tr>\n",
       "    <tr>\n",
       "      <th>4</th>\n",
       "      <td>-1.261807</td>\n",
       "      <td>-1.163764</td>\n",
       "      <td>-0.260628</td>\n",
       "      <td>-0.273932</td>\n",
       "      <td>-0.983978</td>\n",
       "      <td>-0.508283</td>\n",
       "      <td>0.662077</td>\n",
       "      <td>0.683442</td>\n",
       "      <td>-0.424726</td>\n",
       "      <td>0.428728</td>\n",
       "      <td>-0.067530</td>\n",
       "      <td>1</td>\n",
       "      <td>0</td>\n",
       "    </tr>\n",
       "  </tbody>\n",
       "</table>\n",
       "</div>"
      ],
      "text/plain": [
       "     Family  Education  Securities.Account  CD.Account    Online  CreditCard  \\\n",
       "0  1.589877   0.141986           -0.260628    3.650543  1.016283    1.967407   \n",
       "1 -0.311246   1.447735           -0.260628   -0.273932  1.016283    1.967407   \n",
       "2 -0.311246   0.141986           -0.260628   -0.273932 -0.983978   -0.508283   \n",
       "3  0.639316   0.141986           -0.260628   -0.273932  1.016283   -0.508283   \n",
       "4 -1.261807  -1.163764           -0.260628   -0.273932 -0.983978   -0.508283   \n",
       "\n",
       "        Age  Experience    Income     CCAvg  Mortgage  TargetColumn  \\\n",
       "0  0.378572    0.399790 -1.452150 -1.218027  0.785985             0   \n",
       "1  1.229088    1.156195 -0.618579 -0.257524  1.387938             0   \n",
       "2  1.512593    1.534397  1.184259 -0.120422 -0.624561             1   \n",
       "3  0.284070    0.210689  1.164873  0.538708 -0.624561             1   \n",
       "4  0.662077    0.683442 -0.424726  0.428728 -0.067530             1   \n",
       "\n",
       "   Prediction  \n",
       "0           0  \n",
       "1           0  \n",
       "2           1  \n",
       "3           1  \n",
       "4           0  "
      ]
     },
     "execution_count": 53,
     "metadata": {},
     "output_type": "execute_result"
    },
    {
     "data": {
      "image/png": "[encoded data removed]",
      "text/plain": [
       "<Figure size 432x288 with 1 Axes>"
      ]
     },
     "metadata": {
      "needs_background": "light"
     },
     "output_type": "display_data"
    }
   ],
   "source": [
    "#AdaBoost Regression\n",
    "from sklearn.ensemble import AdaBoostClassifier\n",
    "from sklearn.tree import DecisionTreeClassifier\n",
    "\n",
    "#Choosing Decision Tree with 1 level as the weak learner \n",
    "DTC = DecisionTreeClassifier(max_depth=1)\n",
    "clf = AdaBoostClassifier(n_estimators=110, estimator=DTC ,learning_rate=1)\n",
    "\n",
    "#Printing all the parameters of AdaBoost\n",
    "print(clf)\n",
    "\n",
    "#Creating the model on Training Data\n",
    "AB = clf.fit(X_train, Y_train)\n",
    "prediction=AB.predict(X_test)\n",
    "\n",
    "#Measuring accuracy of Testing Data\n",
    "from sklearn import metrics\n",
    "print(metrics.classification_report(Y_test, prediction))\n",
    "print(metrics.confusion_matrix(Y_test, prediction))\n",
    "\n",
    "#Plotting the feature importance for Top 10 most important columns\n",
    "%matplotlib inline\n",
    "feature_importances = pd.Series(AB.feature_importances_, index=Predictors)\n",
    "feature_importances.nlargest(10).plot(kind='barh')\n",
    "\n",
    "#Printing some sample values of prediction\n",
    "TestingDataResults=pd.DataFrame(data=X_test, columns=Predictors)\n",
    "TestingDataResults['TargetColumn']=Y_test\n",
    "TestingDataResults['Prediction']=prediction\n",
    "TestingDataResults.head()"
   ]
  },
  {
   "cell_type": "code",
   "execution_count": null,
   "id": "9d487b5d",
   "metadata": {},
   "outputs": [],
   "source": []
  },
  {
   "cell_type": "markdown",
   "id": "9961d04f",
   "metadata": {},
   "source": [
    "# XGBoost"
   ]
  },
  {
   "cell_type": "code",
   "execution_count": 54,
   "id": "9995a790",
   "metadata": {},
   "outputs": [],
   "source": [
    "#pip install xgboost"
   ]
  },
  {
   "cell_type": "code",
   "execution_count": 55,
   "id": "e1a75a90",
   "metadata": {},
   "outputs": [
    {
     "name": "stdout",
     "output_type": "stream",
     "text": [
      "{'booster': 'gbtree', 'max_depth': 5, 'n_estimators': 500}\n"
     ]
    }
   ],
   "source": [
    "#XGBoost and twining Hyperparameters\n",
    "from xgboost import XGBClassifier\n",
    "#choose from differnt tunable hyper parameter\n",
    "XGclf=XGBClassifier(random_state=101)\n",
    "\n",
    "#GridSearchCV\n",
    "from sklearn.model_selection import GridSearchCV\n",
    "\n",
    "#Parameters to try\n",
    "#'n_estimators' : [50,100,110,120]\n",
    "#'max_depth' : [2,3,4,5]\n",
    "#'booster' : ['gbtree', 'gblinear', 'dart']\n",
    "Parameter_Trials5={'n_estimators' : [200,300,500],\n",
    "                   'max_depth' : [3,4,5],\n",
    "                   'booster' : ['gbtree', 'gblinear', 'dart']}\n",
    "\n",
    "Grid_Search5 = GridSearchCV(XGclf, param_grid=Parameter_Trials5, cv=5, n_jobs=1)\n",
    "\n",
    "GridSearchResults5 = Grid_Search5.fit(X,Y)\n",
    "\n",
    "#Fetching the best parameter\n",
    "print(GridSearchResults5.best_params_)"
   ]
  },
  {
   "cell_type": "code",
   "execution_count": null,
   "id": "6a26a0ca",
   "metadata": {},
   "outputs": [],
   "source": []
  },
  {
   "cell_type": "code",
   "execution_count": 56,
   "id": "2c5ecb79",
   "metadata": {},
   "outputs": [
    {
     "name": "stdout",
     "output_type": "stream",
     "text": [
      "XGBClassifier(base_score=None, booster='gbtree', callbacks=None,\n",
      "              colsample_bylevel=None, colsample_bynode=None,\n",
      "              colsample_bytree=None, device=None, early_stopping_rounds=None,\n",
      "              enable_categorical=False, eval_metric=None, feature_types=None,\n",
      "              gamma=None, grow_policy=None, importance_type=None,\n",
      "              interaction_constraints=None, learning_rate=0.1, max_bin=None,\n",
      "              max_cat_threshold=None, max_cat_to_onehot=None,\n",
      "              max_delta_step=None, max_depth=5, max_leaves=None,\n",
      "              min_child_weight=None, missing=nan, monotone_constraints=None,\n",
      "              multi_strategy=None, n_estimators=500, n_jobs=None,\n",
      "              num_parallel_tree=None, random_state=None, ...)\n",
      "              precision    recall  f1-score   support\n",
      "\n",
      "           0       0.97      0.99      0.98      1337\n",
      "           1       0.99      0.98      0.98      1375\n",
      "\n",
      "    accuracy                           0.98      2712\n",
      "   macro avg       0.98      0.98      0.98      2712\n",
      "weighted avg       0.98      0.98      0.98      2712\n",
      "\n",
      "[[1319   18]\n",
      " [  34 1341]]\n"
     ]
    },
    {
     "data": {
      "text/html": [
       "<div>\n",
       "<style scoped>\n",
       "    .dataframe tbody tr th:only-of-type {\n",
       "        vertical-align: middle;\n",
       "    }\n",
       "\n",
       "    .dataframe tbody tr th {\n",
       "        vertical-align: top;\n",
       "    }\n",
       "\n",
       "    .dataframe thead th {\n",
       "        text-align: right;\n",
       "    }\n",
       "</style>\n",
       "<table border=\"1\" class=\"dataframe\">\n",
       "  <thead>\n",
       "    <tr style=\"text-align: right;\">\n",
       "      <th></th>\n",
       "      <th>Family</th>\n",
       "      <th>Education</th>\n",
       "      <th>Securities.Account</th>\n",
       "      <th>CD.Account</th>\n",
       "      <th>Online</th>\n",
       "      <th>CreditCard</th>\n",
       "      <th>Age</th>\n",
       "      <th>Experience</th>\n",
       "      <th>Income</th>\n",
       "      <th>CCAvg</th>\n",
       "      <th>Mortgage</th>\n",
       "      <th>TargetColumn</th>\n",
       "      <th>Prediction</th>\n",
       "    </tr>\n",
       "  </thead>\n",
       "  <tbody>\n",
       "    <tr>\n",
       "      <th>0</th>\n",
       "      <td>1.589877</td>\n",
       "      <td>0.141986</td>\n",
       "      <td>-0.260628</td>\n",
       "      <td>3.650543</td>\n",
       "      <td>1.016283</td>\n",
       "      <td>1.967407</td>\n",
       "      <td>0.378572</td>\n",
       "      <td>0.399790</td>\n",
       "      <td>-1.452150</td>\n",
       "      <td>-1.218027</td>\n",
       "      <td>0.785985</td>\n",
       "      <td>0</td>\n",
       "      <td>0</td>\n",
       "    </tr>\n",
       "    <tr>\n",
       "      <th>1</th>\n",
       "      <td>-0.311246</td>\n",
       "      <td>1.447735</td>\n",
       "      <td>-0.260628</td>\n",
       "      <td>-0.273932</td>\n",
       "      <td>1.016283</td>\n",
       "      <td>1.967407</td>\n",
       "      <td>1.229088</td>\n",
       "      <td>1.156195</td>\n",
       "      <td>-0.618579</td>\n",
       "      <td>-0.257524</td>\n",
       "      <td>1.387938</td>\n",
       "      <td>0</td>\n",
       "      <td>0</td>\n",
       "    </tr>\n",
       "    <tr>\n",
       "      <th>2</th>\n",
       "      <td>-0.311246</td>\n",
       "      <td>0.141986</td>\n",
       "      <td>-0.260628</td>\n",
       "      <td>-0.273932</td>\n",
       "      <td>-0.983978</td>\n",
       "      <td>-0.508283</td>\n",
       "      <td>1.512593</td>\n",
       "      <td>1.534397</td>\n",
       "      <td>1.184259</td>\n",
       "      <td>-0.120422</td>\n",
       "      <td>-0.624561</td>\n",
       "      <td>1</td>\n",
       "      <td>1</td>\n",
       "    </tr>\n",
       "    <tr>\n",
       "      <th>3</th>\n",
       "      <td>0.639316</td>\n",
       "      <td>0.141986</td>\n",
       "      <td>-0.260628</td>\n",
       "      <td>-0.273932</td>\n",
       "      <td>1.016283</td>\n",
       "      <td>-0.508283</td>\n",
       "      <td>0.284070</td>\n",
       "      <td>0.210689</td>\n",
       "      <td>1.164873</td>\n",
       "      <td>0.538708</td>\n",
       "      <td>-0.624561</td>\n",
       "      <td>1</td>\n",
       "      <td>1</td>\n",
       "    </tr>\n",
       "    <tr>\n",
       "      <th>4</th>\n",
       "      <td>-1.261807</td>\n",
       "      <td>-1.163764</td>\n",
       "      <td>-0.260628</td>\n",
       "      <td>-0.273932</td>\n",
       "      <td>-0.983978</td>\n",
       "      <td>-0.508283</td>\n",
       "      <td>0.662077</td>\n",
       "      <td>0.683442</td>\n",
       "      <td>-0.424726</td>\n",
       "      <td>0.428728</td>\n",
       "      <td>-0.067530</td>\n",
       "      <td>1</td>\n",
       "      <td>1</td>\n",
       "    </tr>\n",
       "  </tbody>\n",
       "</table>\n",
       "</div>"
      ],
      "text/plain": [
       "     Family  Education  Securities.Account  CD.Account    Online  CreditCard  \\\n",
       "0  1.589877   0.141986           -0.260628    3.650543  1.016283    1.967407   \n",
       "1 -0.311246   1.447735           -0.260628   -0.273932  1.016283    1.967407   \n",
       "2 -0.311246   0.141986           -0.260628   -0.273932 -0.983978   -0.508283   \n",
       "3  0.639316   0.141986           -0.260628   -0.273932  1.016283   -0.508283   \n",
       "4 -1.261807  -1.163764           -0.260628   -0.273932 -0.983978   -0.508283   \n",
       "\n",
       "        Age  Experience    Income     CCAvg  Mortgage  TargetColumn  \\\n",
       "0  0.378572    0.399790 -1.452150 -1.218027  0.785985             0   \n",
       "1  1.229088    1.156195 -0.618579 -0.257524  1.387938             0   \n",
       "2  1.512593    1.534397  1.184259 -0.120422 -0.624561             1   \n",
       "3  0.284070    0.210689  1.164873  0.538708 -0.624561             1   \n",
       "4  0.662077    0.683442 -0.424726  0.428728 -0.067530             1   \n",
       "\n",
       "   Prediction  \n",
       "0           0  \n",
       "1           0  \n",
       "2           1  \n",
       "3           1  \n",
       "4           1  "
      ]
     },
     "execution_count": 56,
     "metadata": {},
     "output_type": "execute_result"
    },
    {
     "data": {
      "image/png": "[encoded data removed]",
      "text/plain": [
       "<Figure size 432x288 with 1 Axes>"
      ]
     },
     "metadata": {
      "needs_background": "light"
     },
     "output_type": "display_data"
    }
   ],
   "source": [
    "from xgboost import XGBClassifier\n",
    "clf=XGBClassifier(max_depth=5, learning_rate=0.1, n_estimators=500, objective='binary:logistic', booster='gbtree')\n",
    " \n",
    "#Printing all the parameters of XGBoost\n",
    "print(clf)\n",
    " \n",
    "#Creating the model on Training Data\n",
    "XGB=clf.fit(X_train,Y_train)\n",
    "prediction=XGB.predict(X_test)\n",
    " \n",
    "#Measuring accuracy on Testing Data\n",
    "from sklearn import metrics\n",
    "print(metrics.classification_report(Y_test, prediction))\n",
    "print(metrics.confusion_matrix(Y_test, prediction))\n",
    " \n",
    "#Plotting the feature importance for Top 10 most important columns\n",
    "%matplotlib inline\n",
    "feature_importances = pd.Series(XGB.feature_importances_, index=Predictors)\n",
    "feature_importances.nlargest(10).plot(kind='barh')\n",
    " \n",
    "#Printing some sample values of prediction\n",
    "TestingDataResults=pd.DataFrame(data=X_test, columns=Predictors)\n",
    "TestingDataResults['TargetColumn']=Y_test\n",
    "TestingDataResults['Prediction']=prediction\n",
    "TestingDataResults.head()"
   ]
  },
  {
   "cell_type": "code",
   "execution_count": null,
   "id": "d6564ba1",
   "metadata": {},
   "outputs": [],
   "source": []
  },
  {
   "cell_type": "markdown",
   "id": "ee7212f4",
   "metadata": {},
   "source": [
    "# KNN : K- Nearest Neighbour"
   ]
  },
  {
   "cell_type": "code",
   "execution_count": 65,
   "id": "dcd3e28e",
   "metadata": {},
   "outputs": [
    {
     "name": "stdout",
     "output_type": "stream",
     "text": [
      "{'n_neighbors': 3}\n"
     ]
    }
   ],
   "source": [
    "#K-Nearest Neighbour and twining Hyperparameters\n",
    "from sklearn.neighbors import KNeighborsClassifier\n",
    "#choose from differnt tunable hyper parameter\n",
    "KNNclf=KNeighborsClassifier()\n",
    "\n",
    "#GridSearchCV\n",
    "from sklearn.model_selection import GridSearchCV\n",
    "\n",
    "#Parameters to try\n",
    "#'n_neighbors' : [2,3,4,5]\n",
    "Parameter_Trials6={'n_neighbors' : [2,3,4,5]}\n",
    "\n",
    "Grid_Search6 = GridSearchCV(KNNclf, param_grid=Parameter_Trials6, cv=5, n_jobs=1)\n",
    "\n",
    "GridSearchResults6 = Grid_Search6.fit(X_train,Y_train)\n",
    "\n",
    "#Fetching the best parameter\n",
    "print(GridSearchResults6.best_params_)"
   ]
  },
  {
   "cell_type": "code",
   "execution_count": 66,
   "id": "557ab26b",
   "metadata": {},
   "outputs": [
    {
     "name": "stdout",
     "output_type": "stream",
     "text": [
      "KNeighborsClassifier(n_neighbors=3)\n",
      "              precision    recall  f1-score   support\n",
      "\n",
      "           0       0.95      0.95      0.95      1337\n",
      "           1       0.95      0.96      0.95      1375\n",
      "\n",
      "    accuracy                           0.95      2712\n",
      "   macro avg       0.95      0.95      0.95      2712\n",
      "weighted avg       0.95      0.95      0.95      2712\n",
      "\n",
      "[[1264   73]\n",
      " [  60 1315]]\n"
     ]
    },
    {
     "data": {
      "text/html": [
       "<div>\n",
       "<style scoped>\n",
       "    .dataframe tbody tr th:only-of-type {\n",
       "        vertical-align: middle;\n",
       "    }\n",
       "\n",
       "    .dataframe tbody tr th {\n",
       "        vertical-align: top;\n",
       "    }\n",
       "\n",
       "    .dataframe thead th {\n",
       "        text-align: right;\n",
       "    }\n",
       "</style>\n",
       "<table border=\"1\" class=\"dataframe\">\n",
       "  <thead>\n",
       "    <tr style=\"text-align: right;\">\n",
       "      <th></th>\n",
       "      <th>Family</th>\n",
       "      <th>Education</th>\n",
       "      <th>Securities.Account</th>\n",
       "      <th>CD.Account</th>\n",
       "      <th>Online</th>\n",
       "      <th>CreditCard</th>\n",
       "      <th>Age</th>\n",
       "      <th>Experience</th>\n",
       "      <th>Income</th>\n",
       "      <th>CCAvg</th>\n",
       "      <th>Mortgage</th>\n",
       "      <th>TargetColumn</th>\n",
       "      <th>Prediction</th>\n",
       "    </tr>\n",
       "  </thead>\n",
       "  <tbody>\n",
       "    <tr>\n",
       "      <th>0</th>\n",
       "      <td>1.589877</td>\n",
       "      <td>0.141986</td>\n",
       "      <td>-0.260628</td>\n",
       "      <td>3.650543</td>\n",
       "      <td>1.016283</td>\n",
       "      <td>1.967407</td>\n",
       "      <td>0.378572</td>\n",
       "      <td>0.399790</td>\n",
       "      <td>-1.452150</td>\n",
       "      <td>-1.218027</td>\n",
       "      <td>0.785985</td>\n",
       "      <td>0</td>\n",
       "      <td>0</td>\n",
       "    </tr>\n",
       "    <tr>\n",
       "      <th>1</th>\n",
       "      <td>-0.311246</td>\n",
       "      <td>1.447735</td>\n",
       "      <td>-0.260628</td>\n",
       "      <td>-0.273932</td>\n",
       "      <td>1.016283</td>\n",
       "      <td>1.967407</td>\n",
       "      <td>1.229088</td>\n",
       "      <td>1.156195</td>\n",
       "      <td>-0.618579</td>\n",
       "      <td>-0.257524</td>\n",
       "      <td>1.387938</td>\n",
       "      <td>0</td>\n",
       "      <td>0</td>\n",
       "    </tr>\n",
       "    <tr>\n",
       "      <th>2</th>\n",
       "      <td>-0.311246</td>\n",
       "      <td>0.141986</td>\n",
       "      <td>-0.260628</td>\n",
       "      <td>-0.273932</td>\n",
       "      <td>-0.983978</td>\n",
       "      <td>-0.508283</td>\n",
       "      <td>1.512593</td>\n",
       "      <td>1.534397</td>\n",
       "      <td>1.184259</td>\n",
       "      <td>-0.120422</td>\n",
       "      <td>-0.624561</td>\n",
       "      <td>1</td>\n",
       "      <td>1</td>\n",
       "    </tr>\n",
       "    <tr>\n",
       "      <th>3</th>\n",
       "      <td>0.639316</td>\n",
       "      <td>0.141986</td>\n",
       "      <td>-0.260628</td>\n",
       "      <td>-0.273932</td>\n",
       "      <td>1.016283</td>\n",
       "      <td>-0.508283</td>\n",
       "      <td>0.284070</td>\n",
       "      <td>0.210689</td>\n",
       "      <td>1.164873</td>\n",
       "      <td>0.538708</td>\n",
       "      <td>-0.624561</td>\n",
       "      <td>1</td>\n",
       "      <td>1</td>\n",
       "    </tr>\n",
       "    <tr>\n",
       "      <th>4</th>\n",
       "      <td>-1.261807</td>\n",
       "      <td>-1.163764</td>\n",
       "      <td>-0.260628</td>\n",
       "      <td>-0.273932</td>\n",
       "      <td>-0.983978</td>\n",
       "      <td>-0.508283</td>\n",
       "      <td>0.662077</td>\n",
       "      <td>0.683442</td>\n",
       "      <td>-0.424726</td>\n",
       "      <td>0.428728</td>\n",
       "      <td>-0.067530</td>\n",
       "      <td>1</td>\n",
       "      <td>1</td>\n",
       "    </tr>\n",
       "  </tbody>\n",
       "</table>\n",
       "</div>"
      ],
      "text/plain": [
       "     Family  Education  Securities.Account  CD.Account    Online  CreditCard  \\\n",
       "0  1.589877   0.141986           -0.260628    3.650543  1.016283    1.967407   \n",
       "1 -0.311246   1.447735           -0.260628   -0.273932  1.016283    1.967407   \n",
       "2 -0.311246   0.141986           -0.260628   -0.273932 -0.983978   -0.508283   \n",
       "3  0.639316   0.141986           -0.260628   -0.273932  1.016283   -0.508283   \n",
       "4 -1.261807  -1.163764           -0.260628   -0.273932 -0.983978   -0.508283   \n",
       "\n",
       "        Age  Experience    Income     CCAvg  Mortgage  TargetColumn  \\\n",
       "0  0.378572    0.399790 -1.452150 -1.218027  0.785985             0   \n",
       "1  1.229088    1.156195 -0.618579 -0.257524  1.387938             0   \n",
       "2  1.512593    1.534397  1.184259 -0.120422 -0.624561             1   \n",
       "3  0.284070    0.210689  1.164873  0.538708 -0.624561             1   \n",
       "4  0.662077    0.683442 -0.424726  0.428728 -0.067530             1   \n",
       "\n",
       "   Prediction  \n",
       "0           0  \n",
       "1           0  \n",
       "2           1  \n",
       "3           1  \n",
       "4           1  "
      ]
     },
     "execution_count": 66,
     "metadata": {},
     "output_type": "execute_result"
    }
   ],
   "source": [
    "#K-Nearest Neighbour Classification\n",
    "from sklearn.neighbors import KNeighborsClassifier\n",
    "clf=KNeighborsClassifier(n_neighbors=3)\n",
    "\n",
    "#Printing all the parameters of KNN\n",
    "print(clf)\n",
    "\n",
    "#Creating the model on Training Data\n",
    "KNN = clf.fit(X_train, Y_train)\n",
    "prediction = KNN.predict(X_test)\n",
    "\n",
    "#Measuring accuracy on Testing Data\n",
    "from sklearn import metrics\n",
    "print(metrics.classification_report(Y_test, prediction))\n",
    "print(metrics.confusion_matrix(Y_test, prediction))\n",
    "\n",
    "#Printing some sample values of prediction\n",
    "TestingDataResults=pd.DataFrame(data=X_test, columns=Predictors)\n",
    "TestingDataResults['TargetColumn']=Y_test\n",
    "TestingDataResults['Prediction']=prediction\n",
    "TestingDataResults.head()"
   ]
  },
  {
   "cell_type": "code",
   "execution_count": null,
   "id": "dc7b5061",
   "metadata": {},
   "outputs": [],
   "source": [
    "    "
   ]
  },
  {
   "cell_type": "markdown",
   "id": "a006f347",
   "metadata": {},
   "source": [
    "# SVM: Support Machines Vector"
   ]
  },
  {
   "cell_type": "code",
   "execution_count": null,
   "id": "c85cc3a1",
   "metadata": {},
   "outputs": [],
   "source": []
  },
  {
   "cell_type": "code",
   "execution_count": 64,
   "id": "d4674eab",
   "metadata": {},
   "outputs": [
    {
     "name": "stdout",
     "output_type": "stream",
     "text": [
      "SVC(C=2, kernel='linear')\n",
      "              precision    recall  f1-score   support\n",
      "\n",
      "           0       0.92      0.88      0.90      1337\n",
      "           1       0.89      0.93      0.91      1375\n",
      "\n",
      "    accuracy                           0.90      2712\n",
      "   macro avg       0.91      0.90      0.90      2712\n",
      "weighted avg       0.91      0.90      0.90      2712\n",
      "\n",
      "[[1179  158]\n",
      " [ 100 1275]]\n"
     ]
    },
    {
     "data": {
      "text/html": [
       "<div>\n",
       "<style scoped>\n",
       "    .dataframe tbody tr th:only-of-type {\n",
       "        vertical-align: middle;\n",
       "    }\n",
       "\n",
       "    .dataframe tbody tr th {\n",
       "        vertical-align: top;\n",
       "    }\n",
       "\n",
       "    .dataframe thead th {\n",
       "        text-align: right;\n",
       "    }\n",
       "</style>\n",
       "<table border=\"1\" class=\"dataframe\">\n",
       "  <thead>\n",
       "    <tr style=\"text-align: right;\">\n",
       "      <th></th>\n",
       "      <th>Family</th>\n",
       "      <th>Education</th>\n",
       "      <th>Securities.Account</th>\n",
       "      <th>CD.Account</th>\n",
       "      <th>Online</th>\n",
       "      <th>CreditCard</th>\n",
       "      <th>Age</th>\n",
       "      <th>Experience</th>\n",
       "      <th>Income</th>\n",
       "      <th>CCAvg</th>\n",
       "      <th>Mortgage</th>\n",
       "      <th>TargetColumn</th>\n",
       "      <th>Prediction</th>\n",
       "    </tr>\n",
       "  </thead>\n",
       "  <tbody>\n",
       "    <tr>\n",
       "      <th>0</th>\n",
       "      <td>1.589877</td>\n",
       "      <td>0.141986</td>\n",
       "      <td>-0.260628</td>\n",
       "      <td>3.650543</td>\n",
       "      <td>1.016283</td>\n",
       "      <td>1.967407</td>\n",
       "      <td>0.378572</td>\n",
       "      <td>0.399790</td>\n",
       "      <td>-1.452150</td>\n",
       "      <td>-1.218027</td>\n",
       "      <td>0.785985</td>\n",
       "      <td>0</td>\n",
       "      <td>0</td>\n",
       "    </tr>\n",
       "    <tr>\n",
       "      <th>1</th>\n",
       "      <td>-0.311246</td>\n",
       "      <td>1.447735</td>\n",
       "      <td>-0.260628</td>\n",
       "      <td>-0.273932</td>\n",
       "      <td>1.016283</td>\n",
       "      <td>1.967407</td>\n",
       "      <td>1.229088</td>\n",
       "      <td>1.156195</td>\n",
       "      <td>-0.618579</td>\n",
       "      <td>-0.257524</td>\n",
       "      <td>1.387938</td>\n",
       "      <td>0</td>\n",
       "      <td>0</td>\n",
       "    </tr>\n",
       "    <tr>\n",
       "      <th>2</th>\n",
       "      <td>-0.311246</td>\n",
       "      <td>0.141986</td>\n",
       "      <td>-0.260628</td>\n",
       "      <td>-0.273932</td>\n",
       "      <td>-0.983978</td>\n",
       "      <td>-0.508283</td>\n",
       "      <td>1.512593</td>\n",
       "      <td>1.534397</td>\n",
       "      <td>1.184259</td>\n",
       "      <td>-0.120422</td>\n",
       "      <td>-0.624561</td>\n",
       "      <td>1</td>\n",
       "      <td>1</td>\n",
       "    </tr>\n",
       "    <tr>\n",
       "      <th>3</th>\n",
       "      <td>0.639316</td>\n",
       "      <td>0.141986</td>\n",
       "      <td>-0.260628</td>\n",
       "      <td>-0.273932</td>\n",
       "      <td>1.016283</td>\n",
       "      <td>-0.508283</td>\n",
       "      <td>0.284070</td>\n",
       "      <td>0.210689</td>\n",
       "      <td>1.164873</td>\n",
       "      <td>0.538708</td>\n",
       "      <td>-0.624561</td>\n",
       "      <td>1</td>\n",
       "      <td>1</td>\n",
       "    </tr>\n",
       "    <tr>\n",
       "      <th>4</th>\n",
       "      <td>-1.261807</td>\n",
       "      <td>-1.163764</td>\n",
       "      <td>-0.260628</td>\n",
       "      <td>-0.273932</td>\n",
       "      <td>-0.983978</td>\n",
       "      <td>-0.508283</td>\n",
       "      <td>0.662077</td>\n",
       "      <td>0.683442</td>\n",
       "      <td>-0.424726</td>\n",
       "      <td>0.428728</td>\n",
       "      <td>-0.067530</td>\n",
       "      <td>1</td>\n",
       "      <td>0</td>\n",
       "    </tr>\n",
       "  </tbody>\n",
       "</table>\n",
       "</div>"
      ],
      "text/plain": [
       "     Family  Education  Securities.Account  CD.Account    Online  CreditCard  \\\n",
       "0  1.589877   0.141986           -0.260628    3.650543  1.016283    1.967407   \n",
       "1 -0.311246   1.447735           -0.260628   -0.273932  1.016283    1.967407   \n",
       "2 -0.311246   0.141986           -0.260628   -0.273932 -0.983978   -0.508283   \n",
       "3  0.639316   0.141986           -0.260628   -0.273932  1.016283   -0.508283   \n",
       "4 -1.261807  -1.163764           -0.260628   -0.273932 -0.983978   -0.508283   \n",
       "\n",
       "        Age  Experience    Income     CCAvg  Mortgage  TargetColumn  \\\n",
       "0  0.378572    0.399790 -1.452150 -1.218027  0.785985             0   \n",
       "1  1.229088    1.156195 -0.618579 -0.257524  1.387938             0   \n",
       "2  1.512593    1.534397  1.184259 -0.120422 -0.624561             1   \n",
       "3  0.284070    0.210689  1.164873  0.538708 -0.624561             1   \n",
       "4  0.662077    0.683442 -0.424726  0.428728 -0.067530             1   \n",
       "\n",
       "   Prediction  \n",
       "0           0  \n",
       "1           0  \n",
       "2           1  \n",
       "3           1  \n",
       "4           0  "
      ]
     },
     "execution_count": 64,
     "metadata": {},
     "output_type": "execute_result"
    },
    {
     "data": {
      "image/png": "[encoded data removed]",
      "text/plain": [
       "<Figure size 432x288 with 1 Axes>"
      ]
     },
     "metadata": {
      "needs_background": "light"
     },
     "output_type": "display_data"
    }
   ],
   "source": [
    "#Support Machinnes Vector Classification\n",
    "from sklearn import svm\n",
    "clf = svm.SVC(C=2, kernel='linear')\n",
    " \n",
    "#Printing all the parameters of KNN\n",
    "print(clf)\n",
    " \n",
    "#Creating the model on Training Data\n",
    "SVM=clf.fit(X_train,Y_train)\n",
    "prediction=SVM.predict(X_test)\n",
    " \n",
    "#Measuring accuracy on Testing Data\n",
    "from sklearn import metrics\n",
    "print(metrics.classification_report(Y_test, prediction))\n",
    "print(metrics.confusion_matrix(Y_test, prediction))\n",
    " \n",
    "#Plotting the feature importance for Top 10 most important columns\n",
    "#The built in attribute SVM.coef_ works only for linear kernel\n",
    "%matplotlib inline\n",
    "feature_importances = pd.Series(SVM.coef_[0], index=Predictors)\n",
    "feature_importances.nlargest(10).plot(kind='barh')\n",
    " \n",
    "#Printing some sample values of prediction\n",
    "TestingDataResults=pd.DataFrame(data=X_test, columns=Predictors)\n",
    "TestingDataResults['TargetColumn']=Y_test\n",
    "TestingDataResults['Prediction']=prediction\n",
    "TestingDataResults.head()"
   ]
  },
  {
   "cell_type": "code",
   "execution_count": null,
   "id": "6e1a9038",
   "metadata": {},
   "outputs": [],
   "source": []
  }
 ],
 "metadata": {
  "kernelspec": {
   "display_name": "Python 3 (ipykernel)",
   "language": "python",
   "name": "python3"
  },
  "language_info": {
   "codemirror_mode": {
    "name": "ipython",
    "version": 3
   },
   "file_extension": ".py",
   "mimetype": "text/x-python",
   "name": "python",
   "nbconvert_exporter": "python",
   "pygments_lexer": "ipython3",
   "version": "3.9.7"
  }
 },
 "nbformat": 4,
 "nbformat_minor": 5
}
